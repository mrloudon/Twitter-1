{
 "cells": [
  {
   "cell_type": "markdown",
   "metadata": {},
   "source": [
    "# Twitter Example   \n",
    "## ACE Cluster\n",
    "### School of Psychology, Massey University\n",
    "\n",
    "**Twitter API Setup:**\n",
    "To use the Twitter API you need to register as an app developer. All you need is a Twitter account. When you register an app you are given four encryption keys, two public and two private. One pair is to identify you to the Twitter server and the other is to allow  someone using your app to give you access to their data without them having to share their private credentials with your app."
   ]
  },
  {
   "cell_type": "code",
   "execution_count": 1,
   "metadata": {
    "collapsed": false
   },
   "outputs": [
    {
     "name": "stdout",
     "output_type": "stream",
     "text": [
      "<twitter.api.Twitter object at 0x032EBFD0>\n"
     ]
    }
   ],
   "source": [
    "import twitter\n",
    "\n",
    "consumer_key, consumer_secret = twitter.read_token_file(\"consumer.txt\")\n",
    "oauth_token, oauth_secret = twitter.read_token_file(\"oauth.txt\") \n",
    "auth = twitter.oauth.OAuth(oauth_token, oauth_secret, consumer_key, consumer_secret)\n",
    "twitter_api = twitter.Twitter(auth=auth)\n",
    "print(twitter_api)"
   ]
  },
  {
   "cell_type": "markdown",
   "metadata": {},
   "source": [
    "The **twitter_api** object exists which means we are good to go.\n",
    "\n",
    "Let's find out what we know about @MasseyUni:"
   ]
  },
  {
   "cell_type": "code",
   "execution_count": 2,
   "metadata": {
    "collapsed": false,
    "scrolled": true
   },
   "outputs": [
    {
     "name": "stdout",
     "output_type": "stream",
     "text": [
      "dict_keys(['id', 'id_str', 'name', 'screen_name', 'location', 'profile_location', 'description', 'url', 'entities', 'protected', 'followers_count', 'friends_count', 'listed_count', 'created_at', 'favourites_count', 'utc_offset', 'time_zone', 'geo_enabled', 'verified', 'statuses_count', 'lang', 'status', 'contributors_enabled', 'is_translator', 'is_translation_enabled', 'profile_background_color', 'profile_background_image_url', 'profile_background_image_url_https', 'profile_background_tile', 'profile_image_url', 'profile_image_url_https', 'profile_banner_url', 'profile_link_color', 'profile_sidebar_border_color', 'profile_sidebar_fill_color', 'profile_text_color', 'profile_use_background_image', 'has_extended_profile', 'default_profile', 'default_profile_image', 'following', 'follow_request_sent', 'notifications', 'translator_type'])\n"
     ]
    }
   ],
   "source": [
    "massey_info = twitter_api.users.show(screen_name = \"MasseyUni\")\n",
    "print(massey_info.keys())"
   ]
  },
  {
   "cell_type": "markdown",
   "metadata": {},
   "source": [
    "Lots of goodies. Let's check out the profile image:"
   ]
  },
  {
   "cell_type": "code",
   "execution_count": 3,
   "metadata": {
    "collapsed": false
   },
   "outputs": [
    {
     "name": "stdout",
     "output_type": "stream",
     "text": [
      "http://pbs.twimg.com/profile_images/2039681940/massey-profile-pic_normal.jpg\n"
     ]
    }
   ],
   "source": [
    "print(massey_info['profile_image_url'])"
   ]
  },
  {
   "cell_type": "markdown",
   "metadata": {},
   "source": [
    "How many followers does @MasseyUni have?"
   ]
  },
  {
   "cell_type": "code",
   "execution_count": 4,
   "metadata": {
    "collapsed": false
   },
   "outputs": [
    {
     "name": "stdout",
     "output_type": "stream",
     "text": [
      "11857\n"
     ]
    }
   ],
   "source": [
    "print(massey_info[\"followers_count\"])"
   ]
  },
  {
   "cell_type": "markdown",
   "metadata": {},
   "source": [
    "How many Tweets (including retweets) has @MasseyUni issued?"
   ]
  },
  {
   "cell_type": "code",
   "execution_count": 5,
   "metadata": {
    "collapsed": false
   },
   "outputs": [
    {
     "name": "stdout",
     "output_type": "stream",
     "text": [
      "12914\n"
     ]
    }
   ],
   "source": [
    "print(massey_info[\"statuses_count\"])"
   ]
  },
  {
   "cell_type": "markdown",
   "metadata": {},
   "source": [
    "Let's grab some Tweets from @MasseyUni (which Twitter also calls **statuses** or **status updates**)."
   ]
  },
  {
   "cell_type": "code",
   "execution_count": 6,
   "metadata": {
    "collapsed": false
   },
   "outputs": [],
   "source": [
    "q = \"@MasseyUni\" # The query string - the string we are going to search Twitter with\n",
    "count = 5\n",
    "results =  twitter_api.statuses.user_timeline(screen_name=\"@MasseyUni\", count=count)"
   ]
  },
  {
   "cell_type": "markdown",
   "metadata": {},
   "source": [
    " Like most web services, Twitter returns data in **json** format (json = JavaScript Object Notation)\n",
    " which is very similar to a Python dictionary containing other nested dictionaries and lists in its structure. To print json in a readable\n",
    " manner I will use the json dump string function aliased to dump.\n",
    " \n",
    " A tweet is only 140 characters but the information Twitter provides for each tweet is around 5kB."
   ]
  },
  {
   "cell_type": "code",
   "execution_count": 7,
   "metadata": {
    "collapsed": false,
    "scrolled": true
   },
   "outputs": [
    {
     "name": "stdout",
     "output_type": "stream",
     "text": [
      "[\n",
      "  {\n",
      "    \"created_at\": \"Mon Mar 13 06:45:01 +0000 2017\",\n",
      "    \"id\": 841178264039231489,\n",
      "    \"id_str\": \"841178264039231489\",\n",
      "    \"text\": \"#MasseyUni project looks at empowering iwi &amp; hap\\u016b to be partners in the co-management of healthy estuaries\\u2026 https://t.co/del8USycqi\",\n",
      "    \"truncated\": true,\n",
      "    \"entities\": {\n",
      "      \"hashtags\": [\n",
      "        {\n",
      "          \"text\": \"MasseyUni\",\n",
      "          \"indices\": [\n",
      "            0,\n",
      "            10\n",
      "          ]\n",
      "        }\n",
      "      ],\n",
      "      \"symbols\": [],\n",
      "      \"user_mentions\": [],\n",
      "      \"urls\": [\n",
      "        {\n",
      "          \"url\": \"https://t.co/del8USycqi\",\n",
      "          \"expanded_url\": \"https://twitter.com/i/web/status/841178264039231489\",\n",
      "          \"display_url\": \"twitter.com/i/web/status/8\\u2026\",\n",
      "          \"indices\": [\n",
      "            112,\n",
      "            135\n",
      "          ]\n",
      "        }\n",
      "      ]\n",
      "    },\n",
      "    \"source\": \"<a href=\\\"https://about.twitter.com/products/tweetdeck\\\" rel=\\\"nofollow\\\">TweetDeck</a>\",\n",
      "    \"in_reply_to_status_id\": null,\n",
      "    \"in_reply_to_status_id_str\": null,\n",
      "    \"in_reply_to_user_id\": null,\n",
      "    \"in_reply_to_user_id_str\": null,\n",
      "    \"in_reply_to_screen_name\": null,\n",
      "    \"user\": {\n",
      "      \"id\": 27494710,\n",
      "      \"id_str\": \"27494710\",\n",
      "      \"name\": \"Massey University\",\n",
      "      \"screen_name\": \"MasseyUni\",\n",
      "      \"location\": \"New Zealand\",\n",
      "      \"description\": \"Tweeting the latest news & info from #MasseyUni Mon-Fri 9am-5pm & a few times in between.\",\n",
      "      \"url\": \"http://t.co/gDcaeFHAKn\",\n",
      "      \"entities\": {\n",
      "        \"url\": {\n",
      "          \"urls\": [\n",
      "            {\n",
      "              \"url\": \"http://t.co/gDcaeFHAKn\",\n",
      "              \"expanded_url\": \"http://massey.ac.nz\",\n",
      "              \"display_url\": \"massey.ac.nz\",\n",
      "              \"indices\": [\n",
      "                0,\n",
      "                22\n",
      "              ]\n",
      "            }\n",
      "          ]\n",
      "        },\n",
      "        \"description\": {\n",
      "          \"urls\": []\n",
      "        }\n",
      "      },\n",
      "      \"protected\": false,\n",
      "      \"followers_count\": 11857,\n",
      "      \"friends_count\": 3057,\n",
      "      \"listed_count\": 198,\n",
      "      \"created_at\": \"Sun Mar 29 20:17:18 +0000 2009\",\n",
      "      \"favourites_count\": 10806,\n",
      "      \"utc_offset\": 46800,\n",
      "      \"time_zone\": \"Auckland\",\n",
      "      \"geo_enabled\": false,\n",
      "      \"verified\": false,\n",
      "      \"statuses_count\": 12914,\n",
      "      \"lang\": \"en\",\n",
      "      \"contributors_enabled\": false,\n",
      "      \"is_translator\": false,\n",
      "      \"is_translation_enabled\": false,\n",
      "      \"profile_background_color\": \"004B8D\",\n",
      "      \"profile_background_image_url\": \"http://pbs.twimg.com/profile_background_images/533271073/bg.jpg\",\n",
      "      \"profile_background_image_url_https\": \"https://pbs.twimg.com/profile_background_images/533271073/bg.jpg\",\n",
      "      \"profile_background_tile\": true,\n",
      "      \"profile_image_url\": \"http://pbs.twimg.com/profile_images/2039681940/massey-profile-pic_normal.jpg\",\n",
      "      \"profile_image_url_https\": \"https://pbs.twimg.com/profile_images/2039681940/massey-profile-pic_normal.jpg\",\n",
      "      \"profile_banner_url\": \"https://pbs.twimg.com/profile_banners/27494710/1484604540\",\n",
      "      \"profile_link_color\": \"004B8D\",\n",
      "      \"profile_sidebar_border_color\": \"FFFFFF\",\n",
      "      \"profile_sidebar_fill_color\": \"F2F6F9\",\n",
      "      \"profile_text_color\": \"4C4C4C\",\n",
      "      \"profile_use_background_image\": false,\n",
      "      \"has_extended_profile\": false,\n",
      "      \"default_profile\": false,\n",
      "      \"default_profile_image\": false,\n",
      "      \"following\": true,\n",
      "      \"follow_request_sent\": false,\n",
      "      \"notifications\": false,\n",
      "      \"translator_type\": \"none\"\n",
      "    },\n",
      "    \"geo\": null,\n",
      "    \"coordinates\": null,\n",
      "    \"place\": null,\n",
      "    \"contributors\": null,\n",
      "    \"is_quote_status\": false,\n",
      "    \"retweet_count\": 1,\n",
      "    \"favorite_count\": 1,\n",
      "    \"favorited\": false,\n",
      "    \"retweeted\": false,\n",
      "    \"possibly_sensitive\": false,\n",
      "    \"lang\": \"en\"\n",
      "  },\n",
      "  {\n",
      "    \"created_at\": \"Mon Mar 13 00:32:39 +0000 2017\",\n",
      "    \"id\": 841084558086963207,\n",
      "    \"id_str\": \"841084558086963207\",\n",
      "    \"text\": \"#VIBES student blogger Elliot says Classical Studies is \\\"full-throttle Game of Thrones madness\\\" in today's post https://t.co/p3XRvl7JK2\",\n",
      "    \"truncated\": false,\n",
      "    \"entities\": {\n",
      "      \"hashtags\": [\n",
      "        {\n",
      "          \"text\": \"VIBES\",\n",
      "          \"indices\": [\n",
      "            0,\n",
      "            6\n",
      "          ]\n",
      "        }\n",
      "      ],\n",
      "      \"symbols\": [],\n",
      "      \"user_mentions\": [],\n",
      "      \"urls\": [\n",
      "        {\n",
      "          \"url\": \"https://t.co/p3XRvl7JK2\",\n",
      "          \"expanded_url\": \"http://bit.ly/2mAad7o\",\n",
      "          \"display_url\": \"bit.ly/2mAad7o\",\n",
      "          \"indices\": [\n",
      "            112,\n",
      "            135\n",
      "          ]\n",
      "        }\n",
      "      ]\n",
      "    },\n",
      "    \"source\": \"<a href=\\\"http://sproutsocial.com\\\" rel=\\\"nofollow\\\">Sprout Social</a>\",\n",
      "    \"in_reply_to_status_id\": null,\n",
      "    \"in_reply_to_status_id_str\": null,\n",
      "    \"in_reply_to_user_id\": null,\n",
      "    \"in_reply_to_user_id_str\": null,\n",
      "    \"in_reply_to_screen_name\": null,\n",
      "    \"user\": {\n",
      "      \"id\": 27494710,\n",
      "      \"id_str\": \"27494710\",\n",
      "      \"name\": \"Massey University\",\n",
      "      \"screen_name\": \"MasseyUni\",\n",
      "      \"location\": \"New Zealand\",\n",
      "      \"description\": \"Tweeting the latest news & info from #MasseyUni Mon-Fri 9am-5pm & a few times in between.\",\n",
      "      \"url\": \"http://t.co/gDcaeFHAKn\",\n",
      "      \"entities\": {\n",
      "        \"url\": {\n",
      "          \"urls\": [\n",
      "            {\n",
      "              \"url\": \"http://t.co/gDcaeFHAKn\",\n",
      "              \"expanded_url\": \"http://massey.ac.nz\",\n",
      "              \"display_url\": \"massey.ac.nz\",\n",
      "              \"indices\": [\n",
      "                0,\n",
      "                22\n",
      "              ]\n",
      "            }\n",
      "          ]\n",
      "        },\n",
      "        \"description\": {\n",
      "          \"urls\": []\n",
      "        }\n",
      "      },\n",
      "      \"protected\": false,\n",
      "      \"followers_count\": 11857,\n",
      "      \"friends_count\": 3057,\n",
      "      \"listed_count\": 198,\n",
      "      \"created_at\": \"Sun Mar 29 20:17:18 +0000 2009\",\n",
      "      \"favourites_count\": 10806,\n",
      "      \"utc_offset\": 46800,\n",
      "      \"time_zone\": \"Auckland\",\n",
      "      \"geo_enabled\": false,\n",
      "      \"verified\": false,\n",
      "      \"statuses_count\": 12914,\n",
      "      \"lang\": \"en\",\n",
      "      \"contributors_enabled\": false,\n",
      "      \"is_translator\": false,\n",
      "      \"is_translation_enabled\": false,\n",
      "      \"profile_background_color\": \"004B8D\",\n",
      "      \"profile_background_image_url\": \"http://pbs.twimg.com/profile_background_images/533271073/bg.jpg\",\n",
      "      \"profile_background_image_url_https\": \"https://pbs.twimg.com/profile_background_images/533271073/bg.jpg\",\n",
      "      \"profile_background_tile\": true,\n",
      "      \"profile_image_url\": \"http://pbs.twimg.com/profile_images/2039681940/massey-profile-pic_normal.jpg\",\n",
      "      \"profile_image_url_https\": \"https://pbs.twimg.com/profile_images/2039681940/massey-profile-pic_normal.jpg\",\n",
      "      \"profile_banner_url\": \"https://pbs.twimg.com/profile_banners/27494710/1484604540\",\n",
      "      \"profile_link_color\": \"004B8D\",\n",
      "      \"profile_sidebar_border_color\": \"FFFFFF\",\n",
      "      \"profile_sidebar_fill_color\": \"F2F6F9\",\n",
      "      \"profile_text_color\": \"4C4C4C\",\n",
      "      \"profile_use_background_image\": false,\n",
      "      \"has_extended_profile\": false,\n",
      "      \"default_profile\": false,\n",
      "      \"default_profile_image\": false,\n",
      "      \"following\": true,\n",
      "      \"follow_request_sent\": false,\n",
      "      \"notifications\": false,\n",
      "      \"translator_type\": \"none\"\n",
      "    },\n",
      "    \"geo\": null,\n",
      "    \"coordinates\": null,\n",
      "    \"place\": null,\n",
      "    \"contributors\": null,\n",
      "    \"is_quote_status\": false,\n",
      "    \"retweet_count\": 0,\n",
      "    \"favorite_count\": 1,\n",
      "    \"favorited\": false,\n",
      "    \"retweeted\": false,\n",
      "    \"possibly_sensitive\": false,\n",
      "    \"lang\": \"en\"\n",
      "  },\n",
      "  {\n",
      "    \"created_at\": \"Sun Mar 12 22:30:58 +0000 2017\",\n",
      "    \"id\": 841053933095206912,\n",
      "    \"id_str\": \"841053933095206912\",\n",
      "    \"text\": \"Massey researcher reckons Kiwi start-ups could be missing out on investment with the wrong style of approach. https://t.co/5g3ZkKH9tG\",\n",
      "    \"truncated\": false,\n",
      "    \"entities\": {\n",
      "      \"hashtags\": [],\n",
      "      \"symbols\": [],\n",
      "      \"user_mentions\": [],\n",
      "      \"urls\": [\n",
      "        {\n",
      "          \"url\": \"https://t.co/5g3ZkKH9tG\",\n",
      "          \"expanded_url\": \"https://twitter.com/MasseyUniNews/status/841053213079953408\",\n",
      "          \"display_url\": \"twitter.com/MasseyUniNews/\\u2026\",\n",
      "          \"indices\": [\n",
      "            110,\n",
      "            133\n",
      "          ]\n",
      "        }\n",
      "      ]\n",
      "    },\n",
      "    \"source\": \"<a href=\\\"https://about.twitter.com/products/tweetdeck\\\" rel=\\\"nofollow\\\">TweetDeck</a>\",\n",
      "    \"in_reply_to_status_id\": null,\n",
      "    \"in_reply_to_status_id_str\": null,\n",
      "    \"in_reply_to_user_id\": null,\n",
      "    \"in_reply_to_user_id_str\": null,\n",
      "    \"in_reply_to_screen_name\": null,\n",
      "    \"user\": {\n",
      "      \"id\": 27494710,\n",
      "      \"id_str\": \"27494710\",\n",
      "      \"name\": \"Massey University\",\n",
      "      \"screen_name\": \"MasseyUni\",\n",
      "      \"location\": \"New Zealand\",\n",
      "      \"description\": \"Tweeting the latest news & info from #MasseyUni Mon-Fri 9am-5pm & a few times in between.\",\n",
      "      \"url\": \"http://t.co/gDcaeFHAKn\",\n",
      "      \"entities\": {\n",
      "        \"url\": {\n",
      "          \"urls\": [\n",
      "            {\n",
      "              \"url\": \"http://t.co/gDcaeFHAKn\",\n",
      "              \"expanded_url\": \"http://massey.ac.nz\",\n",
      "              \"display_url\": \"massey.ac.nz\",\n",
      "              \"indices\": [\n",
      "                0,\n",
      "                22\n",
      "              ]\n",
      "            }\n",
      "          ]\n",
      "        },\n",
      "        \"description\": {\n",
      "          \"urls\": []\n",
      "        }\n",
      "      },\n",
      "      \"protected\": false,\n",
      "      \"followers_count\": 11857,\n",
      "      \"friends_count\": 3057,\n",
      "      \"listed_count\": 198,\n",
      "      \"created_at\": \"Sun Mar 29 20:17:18 +0000 2009\",\n",
      "      \"favourites_count\": 10806,\n",
      "      \"utc_offset\": 46800,\n",
      "      \"time_zone\": \"Auckland\",\n",
      "      \"geo_enabled\": false,\n",
      "      \"verified\": false,\n",
      "      \"statuses_count\": 12914,\n",
      "      \"lang\": \"en\",\n",
      "      \"contributors_enabled\": false,\n",
      "      \"is_translator\": false,\n",
      "      \"is_translation_enabled\": false,\n",
      "      \"profile_background_color\": \"004B8D\",\n",
      "      \"profile_background_image_url\": \"http://pbs.twimg.com/profile_background_images/533271073/bg.jpg\",\n",
      "      \"profile_background_image_url_https\": \"https://pbs.twimg.com/profile_background_images/533271073/bg.jpg\",\n",
      "      \"profile_background_tile\": true,\n",
      "      \"profile_image_url\": \"http://pbs.twimg.com/profile_images/2039681940/massey-profile-pic_normal.jpg\",\n",
      "      \"profile_image_url_https\": \"https://pbs.twimg.com/profile_images/2039681940/massey-profile-pic_normal.jpg\",\n",
      "      \"profile_banner_url\": \"https://pbs.twimg.com/profile_banners/27494710/1484604540\",\n",
      "      \"profile_link_color\": \"004B8D\",\n",
      "      \"profile_sidebar_border_color\": \"FFFFFF\",\n",
      "      \"profile_sidebar_fill_color\": \"F2F6F9\",\n",
      "      \"profile_text_color\": \"4C4C4C\",\n",
      "      \"profile_use_background_image\": false,\n",
      "      \"has_extended_profile\": false,\n",
      "      \"default_profile\": false,\n",
      "      \"default_profile_image\": false,\n",
      "      \"following\": true,\n",
      "      \"follow_request_sent\": false,\n",
      "      \"notifications\": false,\n",
      "      \"translator_type\": \"none\"\n",
      "    },\n",
      "    \"geo\": null,\n",
      "    \"coordinates\": null,\n",
      "    \"place\": null,\n",
      "    \"contributors\": null,\n",
      "    \"is_quote_status\": true,\n",
      "    \"quoted_status_id\": 841053213079953408,\n",
      "    \"quoted_status_id_str\": \"841053213079953408\",\n",
      "    \"quoted_status\": {\n",
      "      \"created_at\": \"Sun Mar 12 22:28:06 +0000 2017\",\n",
      "      \"id\": 841053213079953408,\n",
      "      \"id_str\": \"841053213079953408\",\n",
      "      \"text\": \"New #MasseyUni research identifies the best approach for seeking local investment - a must-read for NZ start-ups\\u2026 https://t.co/fQs65Z18rM\",\n",
      "      \"truncated\": true,\n",
      "      \"entities\": {\n",
      "        \"hashtags\": [\n",
      "          {\n",
      "            \"text\": \"MasseyUni\",\n",
      "            \"indices\": [\n",
      "              4,\n",
      "              14\n",
      "            ]\n",
      "          }\n",
      "        ],\n",
      "        \"symbols\": [],\n",
      "        \"user_mentions\": [],\n",
      "        \"urls\": [\n",
      "          {\n",
      "            \"url\": \"https://t.co/fQs65Z18rM\",\n",
      "            \"expanded_url\": \"https://twitter.com/i/web/status/841053213079953408\",\n",
      "            \"display_url\": \"twitter.com/i/web/status/8\\u2026\",\n",
      "            \"indices\": [\n",
      "              114,\n",
      "              137\n",
      "            ]\n",
      "          }\n",
      "        ]\n",
      "      },\n",
      "      \"source\": \"<a href=\\\"https://about.twitter.com/products/tweetdeck\\\" rel=\\\"nofollow\\\">TweetDeck</a>\",\n",
      "      \"in_reply_to_status_id\": null,\n",
      "      \"in_reply_to_status_id_str\": null,\n",
      "      \"in_reply_to_user_id\": null,\n",
      "      \"in_reply_to_user_id_str\": null,\n",
      "      \"in_reply_to_screen_name\": null,\n",
      "      \"user\": {\n",
      "        \"id\": 41531406,\n",
      "        \"id_str\": \"41531406\",\n",
      "        \"name\": \"Massey Uni News\",\n",
      "        \"screen_name\": \"MasseyUniNews\",\n",
      "        \"location\": \"New Zealand\",\n",
      "        \"description\": \"Sharing the latest news and research from @MasseyUni - the engine of the new New Zealand.\",\n",
      "        \"url\": \"http://t.co/00fqbXlsJu\",\n",
      "        \"entities\": {\n",
      "          \"url\": {\n",
      "            \"urls\": [\n",
      "              {\n",
      "                \"url\": \"http://t.co/00fqbXlsJu\",\n",
      "                \"expanded_url\": \"http://news.massey.ac.nz\",\n",
      "                \"display_url\": \"news.massey.ac.nz\",\n",
      "                \"indices\": [\n",
      "                  0,\n",
      "                  22\n",
      "                ]\n",
      "              }\n",
      "            ]\n",
      "          },\n",
      "          \"description\": {\n",
      "            \"urls\": []\n",
      "          }\n",
      "        },\n",
      "        \"protected\": false,\n",
      "        \"followers_count\": 4321,\n",
      "        \"friends_count\": 296,\n",
      "        \"listed_count\": 60,\n",
      "        \"created_at\": \"Thu May 21 04:48:21 +0000 2009\",\n",
      "        \"favourites_count\": 27,\n",
      "        \"utc_offset\": 46800,\n",
      "        \"time_zone\": \"Wellington\",\n",
      "        \"geo_enabled\": true,\n",
      "        \"verified\": false,\n",
      "        \"statuses_count\": 2489,\n",
      "        \"lang\": \"en\",\n",
      "        \"contributors_enabled\": false,\n",
      "        \"is_translator\": false,\n",
      "        \"is_translation_enabled\": false,\n",
      "        \"profile_background_color\": \"004B8D\",\n",
      "        \"profile_background_image_url\": \"http://pbs.twimg.com/profile_background_images/811567490/52216ef72d0d38fdc5cfbd4835c21c2b.jpeg\",\n",
      "        \"profile_background_image_url_https\": \"https://pbs.twimg.com/profile_background_images/811567490/52216ef72d0d38fdc5cfbd4835c21c2b.jpeg\",\n",
      "        \"profile_background_tile\": false,\n",
      "        \"profile_image_url\": \"http://pbs.twimg.com/profile_images/477270027654012928/3jAM0TLC_normal.jpeg\",\n",
      "        \"profile_image_url_https\": \"https://pbs.twimg.com/profile_images/477270027654012928/3jAM0TLC_normal.jpeg\",\n",
      "        \"profile_banner_url\": \"https://pbs.twimg.com/profile_banners/41531406/1443656114\",\n",
      "        \"profile_link_color\": \"004B8D\",\n",
      "        \"profile_sidebar_border_color\": \"FFFFFF\",\n",
      "        \"profile_sidebar_fill_color\": \"E6EDF2\",\n",
      "        \"profile_text_color\": \"4C4C4C\",\n",
      "        \"profile_use_background_image\": false,\n",
      "        \"has_extended_profile\": false,\n",
      "        \"default_profile\": false,\n",
      "        \"default_profile_image\": false,\n",
      "        \"following\": false,\n",
      "        \"follow_request_sent\": false,\n",
      "        \"notifications\": false,\n",
      "        \"translator_type\": \"none\"\n",
      "      },\n",
      "      \"geo\": null,\n",
      "      \"coordinates\": null,\n",
      "      \"place\": null,\n",
      "      \"contributors\": null,\n",
      "      \"is_quote_status\": false,\n",
      "      \"retweet_count\": 1,\n",
      "      \"favorite_count\": 0,\n",
      "      \"favorited\": false,\n",
      "      \"retweeted\": false,\n",
      "      \"possibly_sensitive\": false,\n",
      "      \"lang\": \"en\"\n",
      "    },\n",
      "    \"retweet_count\": 0,\n",
      "    \"favorite_count\": 0,\n",
      "    \"favorited\": false,\n",
      "    \"retweeted\": false,\n",
      "    \"possibly_sensitive\": false,\n",
      "    \"lang\": \"en\"\n",
      "  },\n",
      "  {\n",
      "    \"created_at\": \"Sun Mar 12 22:15:50 +0000 2017\",\n",
      "    \"id\": 841050126453948416,\n",
      "    \"id_str\": \"841050126453948416\",\n",
      "    \"text\": \"New research: troubled NZ youth transfer gang behaviour to Samoa - Dr Gisa Moses Faleolo #MasseyUni\\u2026 https://t.co/tsB28drzea\",\n",
      "    \"truncated\": true,\n",
      "    \"entities\": {\n",
      "      \"hashtags\": [\n",
      "        {\n",
      "          \"text\": \"MasseyUni\",\n",
      "          \"indices\": [\n",
      "            89,\n",
      "            99\n",
      "          ]\n",
      "        }\n",
      "      ],\n",
      "      \"symbols\": [],\n",
      "      \"user_mentions\": [],\n",
      "      \"urls\": [\n",
      "        {\n",
      "          \"url\": \"https://t.co/tsB28drzea\",\n",
      "          \"expanded_url\": \"https://twitter.com/i/web/status/841050126453948416\",\n",
      "          \"display_url\": \"twitter.com/i/web/status/8\\u2026\",\n",
      "          \"indices\": [\n",
      "            101,\n",
      "            124\n",
      "          ]\n",
      "        }\n",
      "      ]\n",
      "    },\n",
      "    \"source\": \"<a href=\\\"https://about.twitter.com/products/tweetdeck\\\" rel=\\\"nofollow\\\">TweetDeck</a>\",\n",
      "    \"in_reply_to_status_id\": null,\n",
      "    \"in_reply_to_status_id_str\": null,\n",
      "    \"in_reply_to_user_id\": null,\n",
      "    \"in_reply_to_user_id_str\": null,\n",
      "    \"in_reply_to_screen_name\": null,\n",
      "    \"user\": {\n",
      "      \"id\": 27494710,\n",
      "      \"id_str\": \"27494710\",\n",
      "      \"name\": \"Massey University\",\n",
      "      \"screen_name\": \"MasseyUni\",\n",
      "      \"location\": \"New Zealand\",\n",
      "      \"description\": \"Tweeting the latest news & info from #MasseyUni Mon-Fri 9am-5pm & a few times in between.\",\n",
      "      \"url\": \"http://t.co/gDcaeFHAKn\",\n",
      "      \"entities\": {\n",
      "        \"url\": {\n",
      "          \"urls\": [\n",
      "            {\n",
      "              \"url\": \"http://t.co/gDcaeFHAKn\",\n",
      "              \"expanded_url\": \"http://massey.ac.nz\",\n",
      "              \"display_url\": \"massey.ac.nz\",\n",
      "              \"indices\": [\n",
      "                0,\n",
      "                22\n",
      "              ]\n",
      "            }\n",
      "          ]\n",
      "        },\n",
      "        \"description\": {\n",
      "          \"urls\": []\n",
      "        }\n",
      "      },\n",
      "      \"protected\": false,\n",
      "      \"followers_count\": 11857,\n",
      "      \"friends_count\": 3057,\n",
      "      \"listed_count\": 198,\n",
      "      \"created_at\": \"Sun Mar 29 20:17:18 +0000 2009\",\n",
      "      \"favourites_count\": 10806,\n",
      "      \"utc_offset\": 46800,\n",
      "      \"time_zone\": \"Auckland\",\n",
      "      \"geo_enabled\": false,\n",
      "      \"verified\": false,\n",
      "      \"statuses_count\": 12914,\n",
      "      \"lang\": \"en\",\n",
      "      \"contributors_enabled\": false,\n",
      "      \"is_translator\": false,\n",
      "      \"is_translation_enabled\": false,\n",
      "      \"profile_background_color\": \"004B8D\",\n",
      "      \"profile_background_image_url\": \"http://pbs.twimg.com/profile_background_images/533271073/bg.jpg\",\n",
      "      \"profile_background_image_url_https\": \"https://pbs.twimg.com/profile_background_images/533271073/bg.jpg\",\n",
      "      \"profile_background_tile\": true,\n",
      "      \"profile_image_url\": \"http://pbs.twimg.com/profile_images/2039681940/massey-profile-pic_normal.jpg\",\n",
      "      \"profile_image_url_https\": \"https://pbs.twimg.com/profile_images/2039681940/massey-profile-pic_normal.jpg\",\n",
      "      \"profile_banner_url\": \"https://pbs.twimg.com/profile_banners/27494710/1484604540\",\n",
      "      \"profile_link_color\": \"004B8D\",\n",
      "      \"profile_sidebar_border_color\": \"FFFFFF\",\n",
      "      \"profile_sidebar_fill_color\": \"F2F6F9\",\n",
      "      \"profile_text_color\": \"4C4C4C\",\n",
      "      \"profile_use_background_image\": false,\n",
      "      \"has_extended_profile\": false,\n",
      "      \"default_profile\": false,\n",
      "      \"default_profile_image\": false,\n",
      "      \"following\": true,\n",
      "      \"follow_request_sent\": false,\n",
      "      \"notifications\": false,\n",
      "      \"translator_type\": \"none\"\n",
      "    },\n",
      "    \"geo\": null,\n",
      "    \"coordinates\": null,\n",
      "    \"place\": null,\n",
      "    \"contributors\": null,\n",
      "    \"is_quote_status\": false,\n",
      "    \"retweet_count\": 0,\n",
      "    \"favorite_count\": 1,\n",
      "    \"favorited\": false,\n",
      "    \"retweeted\": false,\n",
      "    \"possibly_sensitive\": false,\n",
      "    \"lang\": \"en\"\n",
      "  },\n",
      "  {\n",
      "    \"created_at\": \"Sun Mar 12 02:45:00 +0000 2017\",\n",
      "    \"id\": 840755475822051328,\n",
      "    \"id_str\": \"840755475822051328\",\n",
      "    \"text\": \"Looking for short term, on-campus accommodation in the Manawatu? Spaces are still available, but get in quick https://t.co/Yfkfp8HffY\",\n",
      "    \"truncated\": false,\n",
      "    \"entities\": {\n",
      "      \"hashtags\": [],\n",
      "      \"symbols\": [],\n",
      "      \"user_mentions\": [],\n",
      "      \"urls\": [\n",
      "        {\n",
      "          \"url\": \"https://t.co/Yfkfp8HffY\",\n",
      "          \"expanded_url\": \"http://bit.ly/2lSwyeR\",\n",
      "          \"display_url\": \"bit.ly/2lSwyeR\",\n",
      "          \"indices\": [\n",
      "            110,\n",
      "            133\n",
      "          ]\n",
      "        }\n",
      "      ]\n",
      "    },\n",
      "    \"source\": \"<a href=\\\"http://sproutsocial.com\\\" rel=\\\"nofollow\\\">Sprout Social</a>\",\n",
      "    \"in_reply_to_status_id\": null,\n",
      "    \"in_reply_to_status_id_str\": null,\n",
      "    \"in_reply_to_user_id\": null,\n",
      "    \"in_reply_to_user_id_str\": null,\n",
      "    \"in_reply_to_screen_name\": null,\n",
      "    \"user\": {\n",
      "      \"id\": 27494710,\n",
      "      \"id_str\": \"27494710\",\n",
      "      \"name\": \"Massey University\",\n",
      "      \"screen_name\": \"MasseyUni\",\n",
      "      \"location\": \"New Zealand\",\n",
      "      \"description\": \"Tweeting the latest news & info from #MasseyUni Mon-Fri 9am-5pm & a few times in between.\",\n",
      "      \"url\": \"http://t.co/gDcaeFHAKn\",\n",
      "      \"entities\": {\n",
      "        \"url\": {\n",
      "          \"urls\": [\n",
      "            {\n",
      "              \"url\": \"http://t.co/gDcaeFHAKn\",\n",
      "              \"expanded_url\": \"http://massey.ac.nz\",\n",
      "              \"display_url\": \"massey.ac.nz\",\n",
      "              \"indices\": [\n",
      "                0,\n",
      "                22\n",
      "              ]\n",
      "            }\n",
      "          ]\n",
      "        },\n",
      "        \"description\": {\n",
      "          \"urls\": []\n",
      "        }\n",
      "      },\n",
      "      \"protected\": false,\n",
      "      \"followers_count\": 11857,\n",
      "      \"friends_count\": 3057,\n",
      "      \"listed_count\": 198,\n",
      "      \"created_at\": \"Sun Mar 29 20:17:18 +0000 2009\",\n",
      "      \"favourites_count\": 10806,\n",
      "      \"utc_offset\": 46800,\n",
      "      \"time_zone\": \"Auckland\",\n",
      "      \"geo_enabled\": false,\n",
      "      \"verified\": false,\n",
      "      \"statuses_count\": 12914,\n",
      "      \"lang\": \"en\",\n",
      "      \"contributors_enabled\": false,\n",
      "      \"is_translator\": false,\n",
      "      \"is_translation_enabled\": false,\n",
      "      \"profile_background_color\": \"004B8D\",\n",
      "      \"profile_background_image_url\": \"http://pbs.twimg.com/profile_background_images/533271073/bg.jpg\",\n",
      "      \"profile_background_image_url_https\": \"https://pbs.twimg.com/profile_background_images/533271073/bg.jpg\",\n",
      "      \"profile_background_tile\": true,\n",
      "      \"profile_image_url\": \"http://pbs.twimg.com/profile_images/2039681940/massey-profile-pic_normal.jpg\",\n",
      "      \"profile_image_url_https\": \"https://pbs.twimg.com/profile_images/2039681940/massey-profile-pic_normal.jpg\",\n",
      "      \"profile_banner_url\": \"https://pbs.twimg.com/profile_banners/27494710/1484604540\",\n",
      "      \"profile_link_color\": \"004B8D\",\n",
      "      \"profile_sidebar_border_color\": \"FFFFFF\",\n",
      "      \"profile_sidebar_fill_color\": \"F2F6F9\",\n",
      "      \"profile_text_color\": \"4C4C4C\",\n",
      "      \"profile_use_background_image\": false,\n",
      "      \"has_extended_profile\": false,\n",
      "      \"default_profile\": false,\n",
      "      \"default_profile_image\": false,\n",
      "      \"following\": true,\n",
      "      \"follow_request_sent\": false,\n",
      "      \"notifications\": false,\n",
      "      \"translator_type\": \"none\"\n",
      "    },\n",
      "    \"geo\": null,\n",
      "    \"coordinates\": null,\n",
      "    \"place\": null,\n",
      "    \"contributors\": null,\n",
      "    \"is_quote_status\": false,\n",
      "    \"retweet_count\": 1,\n",
      "    \"favorite_count\": 0,\n",
      "    \"favorited\": false,\n",
      "    \"retweeted\": false,\n",
      "    \"possibly_sensitive\": false,\n",
      "    \"lang\": \"en\"\n",
      "  }\n",
      "]\n"
     ]
    }
   ],
   "source": [
    "from json import dumps as dump\n",
    "\n",
    "print(dump(results, indent=2))"
   ]
  },
  {
   "cell_type": "markdown",
   "metadata": {},
   "source": [
    "That is just 5 tweets!\n",
    "\n",
    "The data is returned as a dictionary at the topmost level. The first item is **statuses** which are the actual tweets. The second is **search_metadata**."
   ]
  },
  {
   "cell_type": "code",
   "execution_count": 8,
   "metadata": {
    "collapsed": false
   },
   "outputs": [
    {
     "name": "stdout",
     "output_type": "stream",
     "text": [
      "5\n"
     ]
    }
   ],
   "source": [
    "print(len(results))"
   ]
  },
  {
   "cell_type": "markdown",
   "metadata": {},
   "source": [
    "Let's take a look at what is inside the first tweet (aka statuses[0])"
   ]
  },
  {
   "cell_type": "code",
   "execution_count": 9,
   "metadata": {
    "collapsed": false
   },
   "outputs": [
    {
     "name": "stdout",
     "output_type": "stream",
     "text": [
      "dict_keys(['created_at', 'id', 'id_str', 'text', 'truncated', 'entities', 'source', 'in_reply_to_status_id', 'in_reply_to_status_id_str', 'in_reply_to_user_id', 'in_reply_to_user_id_str', 'in_reply_to_screen_name', 'user', 'geo', 'coordinates', 'place', 'contributors', 'is_quote_status', 'retweet_count', 'favorite_count', 'favorited', 'retweeted', 'possibly_sensitive', 'lang'])\n"
     ]
    }
   ],
   "source": [
    "print(results[0].keys())"
   ]
  },
  {
   "cell_type": "markdown",
   "metadata": {},
   "source": [
    "**\"text\"** is the actual text of the tweet. Let's print them:"
   ]
  },
  {
   "cell_type": "code",
   "execution_count": 10,
   "metadata": {
    "collapsed": false
   },
   "outputs": [
    {
     "name": "stdout",
     "output_type": "stream",
     "text": [
      "#MasseyUni project looks at empowering iwi &amp; hapū to be partners in the co-management of healthy estuaries… https://t.co/del8USycqi\n",
      "#VIBES student blogger Elliot says Classical Studies is \"full-throttle Game of Thrones madness\" in today's post https://t.co/p3XRvl7JK2\n",
      "Massey researcher reckons Kiwi start-ups could be missing out on investment with the wrong style of approach. https://t.co/5g3ZkKH9tG\n",
      "New research: troubled NZ youth transfer gang behaviour to Samoa - Dr Gisa Moses Faleolo #MasseyUni… https://t.co/tsB28drzea\n",
      "Looking for short term, on-campus accommodation in the Manawatu? Spaces are still available, but get in quick https://t.co/Yfkfp8HffY\n"
     ]
    }
   ],
   "source": [
    "for n in range(count):\n",
    "    print(results[n][\"text\"])"
   ]
  },
  {
   "cell_type": "code",
   "execution_count": 11,
   "metadata": {
    "collapsed": false
   },
   "outputs": [
    {
     "name": "stdout",
     "output_type": "stream",
     "text": [
      "<a href=\"https://about.twitter.com/products/tweetdeck\" rel=\"nofollow\">TweetDeck</a>\n",
      "<a href=\"http://sproutsocial.com\" rel=\"nofollow\">Sprout Social</a>\n",
      "<a href=\"https://about.twitter.com/products/tweetdeck\" rel=\"nofollow\">TweetDeck</a>\n",
      "<a href=\"https://about.twitter.com/products/tweetdeck\" rel=\"nofollow\">TweetDeck</a>\n",
      "<a href=\"http://sproutsocial.com\" rel=\"nofollow\">Sprout Social</a>\n"
     ]
    }
   ],
   "source": [
    "for n in range(count):\n",
    "    print(results[n][\"source\"])"
   ]
  },
  {
   "cell_type": "markdown",
   "metadata": {},
   "source": [
    "Let's see what is inside a single tweet.\n",
    "\n",
    "**\"entities\"** are things like hashtags, users and urls mentioned in a tweet. Let's check out the entities for the first tweet: "
   ]
  },
  {
   "cell_type": "code",
   "execution_count": 13,
   "metadata": {
    "collapsed": false,
    "scrolled": true
   },
   "outputs": [
    {
     "name": "stdout",
     "output_type": "stream",
     "text": [
      "{\n",
      " \"hashtags\": [\n",
      "  {\n",
      "   \"text\": \"MasseyUni\",\n",
      "   \"indices\": [\n",
      "    0,\n",
      "    10\n",
      "   ]\n",
      "  }\n",
      " ],\n",
      " \"symbols\": [],\n",
      " \"user_mentions\": [],\n",
      " \"urls\": [\n",
      "  {\n",
      "   \"url\": \"https://t.co/del8USycqi\",\n",
      "   \"expanded_url\": \"https://twitter.com/i/web/status/841178264039231489\",\n",
      "   \"display_url\": \"twitter.com/i/web/status/8\\u2026\",\n",
      "   \"indices\": [\n",
      "    112,\n",
      "    135\n",
      "   ]\n",
      "  }\n",
      " ]\n",
      "}\n"
     ]
    }
   ],
   "source": [
    "t1 = results[0] # t1 = tweet 1, saves writing results[\"statuses\"][0] all the time\n",
    "\n",
    "print(dump(t1[\"entities\"], indent=1))"
   ]
  },
  {
   "cell_type": "markdown",
   "metadata": {},
   "source": [
    "**\"user\"** contains infromation about the original tweeter:"
   ]
  },
  {
   "cell_type": "code",
   "execution_count": 17,
   "metadata": {
    "collapsed": false
   },
   "outputs": [
    {
     "name": "stdout",
     "output_type": "stream",
     "text": [
      "MasseyUni\n"
     ]
    }
   ],
   "source": [
    "print(t1[\"user\"][\"screen_name\"])"
   ]
  },
  {
   "cell_type": "markdown",
   "metadata": {},
   "source": [
    "In this case the original tweeter is MasseyUni but if it was a retweet we could get the original tweeter's user profile, follower, friends and tweets. "
   ]
  },
  {
   "cell_type": "markdown",
   "metadata": {},
   "source": [
    "How many users is @MasseyUni following (i.e. @MasseyUni's friends)?"
   ]
  },
  {
   "cell_type": "code",
   "execution_count": 18,
   "metadata": {
    "collapsed": false
   },
   "outputs": [
    {
     "name": "stdout",
     "output_type": "stream",
     "text": [
      "3057\n"
     ]
    }
   ],
   "source": [
    "print(massey_info[\"friends_count\"])"
   ]
  },
  {
   "cell_type": "markdown",
   "metadata": {},
   "source": [
    "Show the latest 20 users @MasseyUni follows:"
   ]
  },
  {
   "cell_type": "code",
   "execution_count": 19,
   "metadata": {
    "collapsed": false,
    "scrolled": false
   },
   "outputs": [
    {
     "name": "stdout",
     "output_type": "stream",
     "text": [
      "offgrid17\n",
      "AwhinaEnglish\n",
      "TracieMafileo\n",
      "socialpolicy_py\n",
      "MasseyUSocialWk\n",
      "rthazou\n",
      "RNDrive\n",
      "HelReynolds\n",
      "NewsroomNZ\n",
      "ProfJanThomas\n",
      "wcwtp\n",
      "komikanya\n",
      "BA_Yildirim\n",
      "RT_Erdogan\n",
      "mesutcemil\n",
      "glsnayldz\n",
      "sebomubu\n",
      "BritInWgtn\n",
      "DefsecNZ\n",
      "profjanemills\n"
     ]
    }
   ],
   "source": [
    "friends = twitter_api.friends.list(screen_name=\"MasseyUni\", count = 20)\n",
    "for friend in friends[\"users\"]:\n",
    "    print(friend[\"screen_name\"])"
   ]
  },
  {
   "cell_type": "markdown",
   "metadata": {},
   "source": [
    "Show the latest 20 followers of @MasseyUni:"
   ]
  },
  {
   "cell_type": "code",
   "execution_count": 20,
   "metadata": {
    "collapsed": false,
    "scrolled": true
   },
   "outputs": [
    {
     "name": "stdout",
     "output_type": "stream",
     "text": [
      "TimGree91086091\n",
      "katepmora\n",
      "customkiwi\n",
      "chicks_pt\n",
      "AgathaRobles3\n",
      "est_intrepide\n",
      "hannahrubyjen\n",
      "Ashleyjanehowar\n",
      "nzfgw\n",
      "LachiePhilipson\n",
      "BrnJames\n",
      "AnsariIsrajul\n",
      "jomub\n",
      "PecsSummerscho\n",
      "Jaime_Nielsen\n",
      "GeorgiaKendal10\n",
      "IMatainaho\n",
      "nicolegesmundo\n",
      "GarmyGarms\n",
      "AnnaJoyDixon\n"
     ]
    }
   ],
   "source": [
    "followers = twitter_api.followers.list(screen_name=\"MasseyUni\", count = 20)\n",
    "for follower in followers[\"users\"]:\n",
    "    print(follower[\"screen_name\"])"
   ]
  },
  {
   "cell_type": "markdown",
   "metadata": {},
   "source": [
    "**Note:** Twitter places limits on how many friends and followers can be downloaded at once. If obtaining full user data, 200 can be returned in one request (no more than 15 requests in 15 minutes is allowed). If friends/followers are obtained by ID number only, Twitter allows 5000 user IDs to be returned in one request.\n",
    "\n",
    "---\n",
    "\n",
    "How about what is trending in NZ? First we need to find the Yahoo! WOE (Where On Earth) code for NZ. There is a simple lookup page at [http://woeid.rosselliot.co.nz/](http://woeid.rosselliot.co.nz/) \n",
    "\n",
    "It turns out NZ is 23424916"
   ]
  },
  {
   "cell_type": "code",
   "execution_count": 21,
   "metadata": {
    "collapsed": false
   },
   "outputs": [
    {
     "name": "stdout",
     "output_type": "stream",
     "text": [
      "dict_keys(['trends', 'as_of', 'created_at', 'locations'])\n"
     ]
    }
   ],
   "source": [
    "WOE_NZ = 23424916\n",
    "nz_trends = twitter_api.trends.place(_id=WOE_NZ) \n",
    "# the underscore on _id is needed because of a quirk in the python twitter API (\"id\" is reserved for another purpose)\n",
    "# It turns out trends is a list of dictionaries with only one element. Not much of a list really :)\n",
    "print(nz_trends[0].keys())"
   ]
  },
  {
   "cell_type": "markdown",
   "metadata": {},
   "source": [
    "The interesting stuff is in the 'trends' key. Let's take a look at the first 10:"
   ]
  },
  {
   "cell_type": "code",
   "execution_count": 22,
   "metadata": {
    "collapsed": false,
    "scrolled": true
   },
   "outputs": [
    {
     "name": "stdout",
     "output_type": "stream",
     "text": [
      "{\n",
      "  \"name\": \"#nzqt\",\n",
      "  \"url\": \"http://twitter.com/search?q=%23nzqt\",\n",
      "  \"promoted_content\": null,\n",
      "  \"query\": \"%23nzqt\",\n",
      "  \"tweet_volume\": null\n",
      "}\n",
      "{\n",
      "  \"name\": \"#PlunketShield\",\n",
      "  \"url\": \"http://twitter.com/search?q=%23PlunketShield\",\n",
      "  \"promoted_content\": null,\n",
      "  \"query\": \"%23PlunketShield\",\n",
      "  \"tweet_volume\": null\n",
      "}\n",
      "{\n",
      "  \"name\": \"#BBDSummit\",\n",
      "  \"url\": \"http://twitter.com/search?q=%23BBDSummit\",\n",
      "  \"promoted_content\": null,\n",
      "  \"query\": \"%23BBDSummit\",\n",
      "  \"tweet_volume\": null\n",
      "}\n",
      "{\n",
      "  \"name\": \"Parliament\",\n",
      "  \"url\": \"http://twitter.com/search?q=Parliament\",\n",
      "  \"promoted_content\": null,\n",
      "  \"query\": \"Parliament\",\n",
      "  \"tweet_volume\": 69484\n",
      "}\n",
      "{\n",
      "  \"name\": \"Murray Ball\",\n",
      "  \"url\": \"http://twitter.com/search?q=%22Murray+Ball%22\",\n",
      "  \"promoted_content\": null,\n",
      "  \"query\": \"%22Murray+Ball%22\",\n",
      "  \"tweet_volume\": null\n",
      "}\n",
      "{\n",
      "  \"name\": \"#KievMajor\",\n",
      "  \"url\": \"http://twitter.com/search?q=%23KievMajor\",\n",
      "  \"promoted_content\": null,\n",
      "  \"query\": \"%23KievMajor\",\n",
      "  \"tweet_volume\": null\n",
      "}\n",
      "{\n",
      "  \"name\": \"#BFC630NZ\",\n",
      "  \"url\": \"http://twitter.com/search?q=%23BFC630NZ\",\n",
      "  \"promoted_content\": null,\n",
      "  \"query\": \"%23BFC630NZ\",\n",
      "  \"tweet_volume\": null\n",
      "}\n",
      "{\n",
      "  \"name\": \"Kiwis\",\n",
      "  \"url\": \"http://twitter.com/search?q=Kiwis\",\n",
      "  \"promoted_content\": null,\n",
      "  \"query\": \"Kiwis\",\n",
      "  \"tweet_volume\": null\n",
      "}\n",
      "{\n",
      "  \"name\": \"The Daily Blog\",\n",
      "  \"url\": \"http://twitter.com/search?q=%22The+Daily+Blog%22\",\n",
      "  \"promoted_content\": null,\n",
      "  \"query\": \"%22The+Daily+Blog%22\",\n",
      "  \"tweet_volume\": null\n",
      "}\n",
      "{\n",
      "  \"name\": \"Bill English\",\n",
      "  \"url\": \"http://twitter.com/search?q=%22Bill+English%22\",\n",
      "  \"promoted_content\": null,\n",
      "  \"query\": \"%22Bill+English%22\",\n",
      "  \"tweet_volume\": null\n",
      "}\n"
     ]
    }
   ],
   "source": [
    "for trend in nz_trends[0][\"trends\"][0:10]:\n",
    "    print(dump(trend, indent=2))"
   ]
  },
  {
   "cell_type": "markdown",
   "metadata": {
    "collapsed": true
   },
   "source": [
    "Now I will try something more complicated. Let's compare the **lexical diversity** of Massey tweets with Victoria tweets. Lexical diversity will be crudely defined as **the number of unique words divided by the total number of words** in a list of tweets, N = 100 say.\n",
    "\n",
    "First get 100 tweets from Massey and Victoria:"
   ]
  },
  {
   "cell_type": "code",
   "execution_count": 23,
   "metadata": {
    "collapsed": true
   },
   "outputs": [],
   "source": [
    "count = 100\n",
    "\n",
    "q = \"@MasseyUni\"\n",
    "#massey_tweets = twitter_api.search.tweets(q=q, count=count)[\"statuses\"]\n",
    "massey_tweets = twitter_api.statuses.user_timeline(screen_name=\"@MasseyUni\", count=count)\n",
    "q = \"@VicUniWgtn\"\n",
    "#victoria_tweets = twitter_api.search.tweets(q=q, count=count)[\"statuses\"]\n",
    "victoria_tweets = twitter_api.statuses.user_timeline(screen_name=\"@VicUniWgtn\", count=count)"
   ]
  },
  {
   "cell_type": "markdown",
   "metadata": {},
   "source": [
    "Now extract the text of each tweet for both Massey and Victoria (using a Python *list comprehension*):"
   ]
  },
  {
   "cell_type": "code",
   "execution_count": 24,
   "metadata": {
    "collapsed": true
   },
   "outputs": [],
   "source": [
    "massey_texts = [tweet[\"text\"] for tweet in massey_tweets]\n",
    "victoria_texts = [tweet[\"text\"] for tweet in victoria_tweets]"
   ]
  },
  {
   "cell_type": "markdown",
   "metadata": {},
   "source": [
    "Now we need to break down each text into individual words add the words to a list. I will exclude 'words' that include punctuation (like hastags, screen names etc.) by means of Pythons isalpha() method. We need to iterate over each text and then over each word in the text:"
   ]
  },
  {
   "cell_type": "code",
   "execution_count": 25,
   "metadata": {
    "collapsed": false,
    "scrolled": true
   },
   "outputs": [
    {
     "name": "stdout",
     "output_type": "stream",
     "text": [
      "50 Massey words:\n",
      "\n",
      " ['project', 'looks', 'at', 'empowering', 'iwi', 'hapū', 'to', 'be', 'partners', 'in', 'the', 'of', 'healthy', 'student', 'blogger', 'Elliot', 'says', 'Classical', 'Studies', 'is', 'Game', 'of', 'Thrones', 'in', 'post', 'Massey', 'researcher', 'reckons', 'Kiwi', 'could', 'be', 'missing', 'out', 'on', 'investment', 'with', 'the', 'wrong', 'style', 'of', 'New', 'troubled', 'NZ', 'youth', 'transfer', 'gang', 'behaviour', 'to', 'Samoa', 'Dr']\n",
      "\n",
      "50 Victoria words:\n",
      "\n",
      " ['talks', 'exotic', 'species', 'and', 'messages', 'on', 'and', 'research', 'show', 'the', 'susceptibility', 'of', 'vital', 'groundwater', 'systems', 'to', 'is', 'the', 'coldest', 'how', 'warm', 'can', 'it', 'sets', 'the', 'record', 'is', 'Hear', 'from', 'leading', 'innovators', 'using', 'VR', 'in', 'Friday', 'names', 'alumna', 'former', 'staff', 'member', 'Prof', 'Linda', 'Trenberth', 'as', 'the', 'new', 'and', 'The', 'slippery', 'slope']\n"
     ]
    }
   ],
   "source": [
    "massey_words = [word \n",
    "                    for text in massey_texts\n",
    "                        for word in text.split() if word.isalpha()]\n",
    "victoria_words = [word \n",
    "                    for text in victoria_texts\n",
    "                        for word in text.split() if word.isalpha()]\n",
    "\n",
    "print(\"50 Massey words:\\n\\n\", massey_words[0:50])\n",
    "print(\"\\n50 Victoria words:\\n\\n\", victoria_words[0:50])"
   ]
  },
  {
   "cell_type": "markdown",
   "metadata": {},
   "source": [
    "Notice that the words are not unique. We have just split up all the texts and pulled out strings of alpha characters. It's easy to convert a list of words into a *set* of unique words by using Pythons set() method:"
   ]
  },
  {
   "cell_type": "code",
   "execution_count": 26,
   "metadata": {
    "collapsed": true
   },
   "outputs": [],
   "source": [
    "unique_massey_words = set(massey_words)\n",
    "unique_victoria_words = set(victoria_words)"
   ]
  },
  {
   "cell_type": "markdown",
   "metadata": {},
   "source": [
    "Python makes it that easy! Now we have everything we need to compare the lexical diversity."
   ]
  },
  {
   "cell_type": "code",
   "execution_count": 27,
   "metadata": {
    "collapsed": false
   },
   "outputs": [
    {
     "name": "stdout",
     "output_type": "stream",
     "text": [
      "Massey: 582 unique words out of 1232 = 0.4724025974025974 \n",
      "\n",
      "{'Need', 'Taranaki', 'empowering', 'earning', 'Tamariki', 'costs', 'work', 'Faleolo', 'Spaces', 'consumers', 'Prof', 'RadioLive', 'hero', 'Jon', 'at', 'iwi', 'expanding', 'support', 'available', 'women', 'Cup', 'gang', 'Details', 'spaces', 'partners', 'blockbuster', 'Regional', 'training', 'awesome', 'Kiwi', 'deal', 'has', 'Low', 'fire', 'us', 'regional', 'developed', 'lecturer', 'food', 'Club', 'now', 'Yule', 'New', 'minute', 'grow', 'snr', 'campus', 'journos', 'but', 'Aucklands', 'Jenny', 'country', 'tribute', 'Rising', 'she', 'after', 'talks', 'focus', 'revolutionises', 'Road', 'World', 'fuel', 'ideas', 'assist', 'three', 'transport', 'Kenshin', 'style', 'Brock', 'its', 'Robinson', 'under', 'via', 'peaceful', 'date', 'any', 'everyone', 'March', 'accommodation', 'wait', 'Facebook', 'we', 'introduces', 'when', 'growing', 'out', 'outlook', 'Miles', 'decriminalising', 'working', 'Norris', 'Finance', 'tests', 'definitely', 'management', 'Had', 'cancer', 'featured', 'Can', 'is', 'privilege', 'Check', 'Studying', 'BA', 'overstated', 'Professor', 'underway', 'Grafton', 'Whangarei', 'Glover', 'Coming', 'Come', 'olds', 'sustainable', 'project', 'reckons', 'Dr', 'mouldy', 'stop', 'discussed', 'Government', 'high', 'alive', 'Congrats', 'Stannard', 'Wellington', 'researcher', 'immunisation', 'Sir', 'get', 'Do', 'night', 'Centre', 'Enjoying', 'hapū', 'behaviour', 'Ralph', 'each', 'be', 'research', 'health', 'more', 'ruled', 'also', 'tweets', 'Poduval', 'Ian', 'planning', 'Minister', 'A', 'hear', 'success', 'one', 'host', 'part', 'pay', 'his', 'emotions', 'forget', 'dairy', 'with', 'detection', 'In', 'checking', 'Super', 'Steve', 'Budget', 'much', 'information', 'Dan', 'Would', 'use', 'ready', 'Monday', 'Spoke', 'Lots', 'levels', 'Hospital', 'school', 'issue', 'breastfeeding', 'troubled', 'example', 'opening', 'screened', 'UFC', 'Union', 'economic', 'RT', 'MASSEY', 'grades', 'view', 'or', 'addressing', 'limited', 'so', 'about', 'On', 'distance', 'But', 'Marketing', 'short', 'future', 'your', 'Hamilton', 'deficiency', 'alumnus', 'FREE', 'Moderate', 'So', 'should', 'quality', 'Hon', 'rates', 'dogs', 'expert', 'Congratulations', 'fight', 'live', 'Wilkins', 'Hamish', 'CEO', 'of', 'event', 'these', 'cannabis', 'campuses', 'Palmer', 'Research', 'education', 'Worlds', 'Everyone', 'curb', 'Fighting', 'Watch', 'Is', 'first', 'screening', 'Beer', 'annual', 'Northland', 'Palmerston', 'semester', 'diabetes', 'development', 'situation', 'responsive', 'Studies', 'call', 'not', 'moving', 'backs', 'The', 'into', 'Business', 'no', 'microchip', 'in', 'von', 'Especially', 'that', 'NZ', 'new', 'hurry', 'North', 'Bishell', 'HR', 'Barbara', 'nursing', 'plans', 'Greg', 'VC', 'release', 'lovely', 'Harbour', 'bigger', 'good', 'from', 'rate', 'steroid', 'Pam', 'OK', 'Janet', 'little', 'University', 'proud', 'councils', 'Carryer', 'professor', 'candidate', 'back', 'whether', 'pledged', 'Joyce', 'School', 'my', 'better', 'student', 'TUNE', 'drinking', 'Shaun', 'how', 'Game', 'Industry', 'April', 'PhD', 'P', 'employment', 'Manawatu', 'Japanese', 'Paul', 'N', 'formal', 'Mau', 'up', 'here', 'international', 'years', 'hosting', 'We', 'known', 'Researcher', 'finding', 'office', 'Wednesday', 'Michael', 'Weber', 'Journalism', 'won', 'trilogy', 'National', 'help', 'great', 'reveals', 'Moses', 'keeping', 'growth', 'drink', 'vision', 'complicated', 'morning', 'children', 'vaping', 'shared', 'Mataram', 'just', 'getting', 'helping', 'Hurst', 'conference', 'philgoffmp', 'youth', 'eat', 'meth', 'shortages', 'thrilling', 'Day', 'missing', 'Enjoy', 'deep', 'Nutrient', 'speech', 'talk', 'are', 'ambitious', 'sport', 'International', 'Rurouni', 'Steven', 'media', 'Maori', 'Looking', 'Pop', 'having', 'cost', 'transfer', 'prospects', 'as', 'meet', 'students', 'Pays', 'requires', 'Aviation', 'due', 'day', 'Great', 'fun', 'allow', 'housing', 'launch', 'Dairy', 'says', 'order', 'Auckland', 'difficult', 'risk', 'agreed', 'Jane', 'wants', 'Chancellor', 'study', 'too', 'writes', 'Karaka', 'investment', 'economy', 'perfect', 'Women', 'what', 'it', 'Ashok', 'needed', 'wrong', 'less', 'without', 'Precision', 'among', 'urgent', 'Read', 'problem', 'IN', 'crisis', 'tax', 'sign', 'the', 'Thrones', 'Political', 'see', 'absolutely', 'action', 'current', 'predict', 'happened', 'their', 'tips', 'alcohol', 'Parker', 'and', 'methamphetamine', 'CH', 'article', 'meeting', 'neuter', 'legalising', 'brighter', 'things', 'Lovely', 'Brilliant', 'Senior', 'by', 'Elliot', 'look', 'quick', 'discusses', 'casual', 'Kiwibank', 'like', 'mother', 'building', 'TPP', 'minds', 'page', 'conclusion', 'evidence', 'Benefits', 'infrastructure', 'legs', 'Ahie', 'local', 'win', 'post', 'delves', 'lunch', 'create', 'false', 'speaks', 'scheme', 'Expert', 'Grove', 'opportunities', 'reading', 'can', 'DNR', 'week', 'collaboration', 'Ali', 'Jo', 'highest', 'leading', 'Burlingame', 'Claire', 'mins', 'makes', 'slaps', 'balances', 'system', 'explains', 'Samoa', 'alumni', 'shows', 'Join', 'Chris', 'who', 'studying', 'Palmy', 'menacing', 'please', 'marvellous', 'Kara', 'year', 'official', 'Gisa', 'Biomechanics', 'patient', 'consent', 'envy', 'Carter', 'still', 'might', 'today', 'Classical', 'our', 'for', 'film', 'Kathryn', 'last', 'fastest', 'could', 'rugby', 'world', 'discover', 'on', 'Heightened', 'to', 'Americas', 'this', 'Marewa', 'learn', 'find', 'Sport', 'prevent', 'some', 'Summer', 'looks', 'higher', 'will', 'party', 'a', 'foetal', 'have', 'communities', 'uncertainty', 'Drug', 'all', 'anxious', 'breast', 'water', 'pool', 'Orientation', 'Calling', 'jokes', 'Narges', 'continued', 'threatens', 'an', 'Aotearoa', 'talking', 'AK', 'than', 'Alianmoghaddam', 'blogger', 'celebration', 'including', 'healthy', 'colleagues', 'latest', 'involved', 'Massey', 'speaking', 'website', 'you', 'comes'} \n",
      "\n",
      "\n",
      "\n",
      "Victoria: 615 unique words out of 1150 = 0.5347826086956522 \n",
      "\n",
      "{'extra', 'Marten', 'ice', 'migration', 'work', 'inquiry', 'Master', 'Vercauteren', 'recorded', 'Volunteer', 'Prof', 'feel', 'Vanessa', 'at', 'irony', 'Vincent', 'professional', 'What', 'pics', 'available', 'firm', 'Friday', 'play', 'fauna', 'life', 'Steady', 'One', 'ranked', 'Travelling', 'publishes', 'really', 'Excellence', 'systems', 'academic', 'before', 'they', 'emissions', 'behind', 'deal', 'has', 'sold', 'programme', 'which', 'developed', 'lecturer', 'now', 'well', 'New', 'able', 'attack', 'leader', 'anomaly', 'tackled', 'Sunday', 'genius', 'campus', 'primary', 'but', 'make', 'John', 'talks', 'awful', 'prize', 'foundation', 'volunteer', 'opinion', 'Road', 'schools', 'setting', 'RSVP', 'Mackintosh', 'That', 'around', 'spent', 'friendship', 'its', 'From', 'symposium', 'under', 'finalist', 'police', 'temperatures', 'any', 'Tiriti', 'bringing', 'we', 'mystery', 'growing', 'out', 'stamps', 'beautiful', 'towards', 'perspective', 'Manly', 'times', 'Get', 'Malone', 'groundwater', 'deals', 'lasting', 'US', 'link', 'Can', 'is', 'balance', 'membership', 'used', 'design', 'strength', 'policy', 'he', 'news', 'safer', 'was', 'instruments', 'modelling', 'mineral', 'itself', 'Mandarin', 'means', 'works', 'project', 'Judy', 'Traditional', 'Josef', 'lunchtime', 'being', 'prevention', 'Dr', 'created', 'Syrian', 'Think', 'high', 'online', 'seeing', 'specialist', 'Congrats', 'Chair', 'powerful', 'researcher', 'Zealander', 'George', 'Eleanor', 'came', 'Student', 'blossomed', 'Centre', 'helps', 'report', 'descend', 'Miss', 'Global', 'Prime', 'be', 'research', 'health', 'more', 'looking', 'Franz', 'published', 'head', 'Ian', 'tackle', 'down', 'shape', 'Minister', 'none', 'A', 'success', 'Just', 'Press', 'Southeast', 'host', 'part', 'his', 'falling', 'Institute', 'abuse', 'rarely', 'global', 'with', 'Anderson', 'Gisborne', 'offspring', 'results', 'air', 'Zoë', 'between', 'essay', 'warming', 'Accent', 'featuring', 'where', 'shortlisted', 'Kelburn', 'use', 'traditions', 'took', 'Shep', 'school', 'issue', 'projects', 'Schipper', 'form', 'mirrors', 'update', 'impacts', 'writing', 'Centres', 'author', 'visiting', 'architectural', 'RT', 'funding', 'fantastic', 'view', 'Latest', 'or', 'Hear', 'susceptibility', 'so', 'about', 'Bevan', 'practitioners', 'former', 'union', 'warm', 'loudly', 'future', 'Share', 'your', 'should', 'Maria', 'quality', 'discuss', 'Congratulations', 'live', 'Today', 'forward', 'team', 'of', 'billion', 'event', 'Elizabeth', 'sets', 'Linklater', 'tickets', 'Green', 'staff', 'Watch', 'care', 'Asian', 'first', 'teaches', 'annual', 'does', 'fossils', 'Studies', 'hunt', 'rest', 'not', 'universities', 'climate', 'Goh', 'The', 'talked', 'into', 'in', 'Course', 'Trenberth', 'insights', 'man', 'Learn', 'grew', 'traits', 'grows', 'community', 'curator', 'that', 'postal', 'new', 'NZ', 'prisons', 'Sydney', 'Reinventing', 'Liam', 'independent', 'mental', 'Andrew', 'display', 'mobile', 'Gibbs', 'wheelie', 'names', 'features', 'raised', 'good', 'from', 'breathing', 'dinosaur', 'Gallery', 'miss', 'buildings', 'computer', 'quirks', 'record', 'phonecall', 'Tolerate', 'Sheat', 'role', 'trickle', 'Carwyn', 'proud', 'You', 'Grant', 'Labour', 'innovators', 'two', 'back', 'examining', 'School', 'installation', 'quite', 'better', 'student', 'slippery', 'how', 'bitter', 'PhD', 'employment', 'Confucius', 'Instagram', 'book', 'mapping', 'app', 'tumours', 'Intercultural', 'up', 'piece', 'Jones', 'international', 'Olivia', 'worldwide', 'Andes', 'time', 'sunrise', 'analyses', 'increases', 'Well', 'flora', 'Mikado', 'won', 'highly', 'o', 'alliance', 'personality', 'manage', 'period', 'great', 'law', 'Te', 'findings', 'Delve', 'made', 'messages', 'public', 'printed', 'healing', 'children', 'Las', 'just', 'helping', 'creating', 'Eric', 'moment', 'globalised', 'researchers', 'seen', 'business', 'Tiong', 'writer', 'started', 'over', 'continent', 'Next', 'Tank', 'deep', 'winning', 'Asia', 'suggests', 'debut', 'talk', 'are', 'More', 'adapt', 'top', 'become', 'presented', 'media', 'prior', 'recap', 'prestigious', 'as', 'students', 'art', 'architecture', 'kawenata', 'recipient', 'Rob', 'earthquakes', 'subjects', 'Army', 'targeted', 'asks', 'slope', 'officially', 'taongo', 'Mana', 'housing', 'launch', 'fact', 'says', 'alumna', 'sex', 'identified', 'glaciologist', 'volume', 'study', 'Flutey', 'researching', 'Love', 'vital', 'Marc', 'economy', 'Deidre', 'coldest', 'member', 'Māori', 'recent', 'what', 'it', 'ceremony', 'named', 'among', 'explore', 'tutor', 'the', 'Bargh', 'workshop', 'BNZ', 'their', 'VR', 'best', 'species', 'elderly', 'supporter', 'hosts', 'Rupert', 'and', 'send', 'meeting', 'effective', 'misleading', 'Treaty', 'Secondary', 'by', 'did', 'discusses', 'gender', 'thrilled', 'despite', 'Linda', 'led', 'Brian', 'keen', 'Have', 'Lawrence', 'state', 'using', 'incoming', 'gets', 'Ecuador', 'series', 'going', 'lags', 'tonight', 'local', 'win', 'James', 'How', 'exotic', 'torture', 'Lee', 'warns', 'awards', 'experts', 'Wilson', 'Ends', 'email', 'Orders', 'refusal', 'reading', 'can', 'productivity', 'social', 'decline', 'week', 'Crampton', 'Fred', 'highest', 'senior', 'Sorry', 'impact', 'kindy', 'surface', 'leading', 'offices', 'Executive', 'Leadership', 'presidency', 'been', 'explains', 'give', 'together', 'show', 'settlements', 'shows', 'who', 'Thorne', 'rotundas', 'shipping', 'history', 'Book', 'Turnbull', 'please', 'White', 'era', 'year', 'band', 'tool', 'Stanley', 'Morris', 'principals', 'today', 'our', 'big', 'for', 'last', 'improve', 'list', 'could', 'pollution', 'world', 'Ayson', 'on', 'why', 'An', 'volunteers', 'to', 'this', 'ever', 'Urewera', 'find', 'exhibition', 'foreign', 'modify', 'free', 'some', 'site', 'welcomed', 'since', 'Summer', 'Visiting', 'lead', 'scientist', 'Lewis', 'Catton', 'will', 'party', 'a', 'consultancy', 'have', 'Scott', 'must', 'mean', 'her', 'Inspired', 'precipitation', 'survey', 'try', 'Twitter', 'Wayne', 'teachers', 'next', 'strong', 'Rehearsal', 'Rignot', 'Strategic', 'an', 'lecture', 'during', 'than', 'introduced', 'including', 'This', 'established', 'populism', 'exploring', 'focuses', 'challenges', 'rankings', 'policies', 'Waitangi', 'you', 'provides'}\n"
     ]
    }
   ],
   "source": [
    "print(\"Massey:\", len(unique_massey_words), \"unique words out of\", len(massey_words), \"=\",\n",
    "      len(unique_massey_words) / len(massey_words),\"\\n\")\n",
    "print(unique_massey_words, \"\\n\\n\")\n",
    "print(\"\\nVictoria:\", len(unique_victoria_words), \"unique words out of\", len(victoria_words), \"=\",\n",
    "      len(unique_victoria_words) / len(victoria_words),\"\\n\")\n",
    "print(unique_victoria_words)"
   ]
  },
  {
   "cell_type": "markdown",
   "metadata": {},
   "source": [
    "Get the intersection of Massey and Victoria words:"
   ]
  },
  {
   "cell_type": "code",
   "execution_count": 29,
   "metadata": {
    "collapsed": false
   },
   "outputs": [
    {
     "name": "stdout",
     "output_type": "stream",
     "text": [
      "{'and', 'A', 'success', 'proud', 'meeting', 'host', 'part', 'his', 'work', 'back', 'by', 'with', 'School', 'Prof', 'better', 'student', 'discusses', 'at', 'how', 'PhD', 'employment', 'available', 'use', 'school', 'issue', 'up', 'international', 'RT', 'local', 'win', 'view', 'or', 'deal', 'has', 'so', 'won', 'developed', 'about', 'lecturer', 'now', 'reading', 'can', 'New', 'great', 'future', 'week', 'your', 'campus', 'but', 'highest', 'should', 'quality', 'leading', 'talks', 'children', 'just', 'helping', 'Road', 'explains', 'Congratulations', 'live', 'shows', 'who', 'of', 'event', 'its', 'deep', 'please', 'under', 'year', 'talk', 'Watch', 'any', 'are', 'first', 'annual', 'we', 'today', 'growing', 'our', 'out', 'media', 'for', 'Studies', 'last', 'as', 'students', 'could', 'not', 'world', 'on', 'to', 'Can', 'this', 'is', 'find', 'housing', 'The', 'launch', 'some', 'Summer', 'into', 'project', 'in', 'says', 'will', 'party', 'a', 'Dr', 'have', 'study', 'that', 'NZ', 'new', 'high', 'economy', 'Congrats', 'researcher', 'what', 'it', 'an', 'Centre', 'than', 'among', 'including', 'good', 'from', 'the', 'be', 'research', 'health', 'more', 'their', 'Ian', 'you', 'Minister'}\n"
     ]
    }
   ],
   "source": [
    "print(unique_victoria_words & unique_massey_words)"
   ]
  },
  {
   "cell_type": "markdown",
   "metadata": {},
   "source": [
    "The difference:"
   ]
  },
  {
   "cell_type": "code",
   "execution_count": 28,
   "metadata": {
    "collapsed": false
   },
   "outputs": [
    {
     "name": "stdout",
     "output_type": "stream",
     "text": [
      "{'extra', 'ice', 'Marten', 'migration', 'inquiry', 'Master', 'Vercauteren', 'recorded', 'Volunteer', 'feel', 'Vanessa', 'irony', 'Vincent', 'professional', 'What', 'pics', 'firm', 'Friday', 'play', 'fauna', 'life', 'Steady', 'One', 'ranked', 'Travelling', 'publishes', 'really', 'Excellence', 'systems', 'academic', 'before', 'they', 'emissions', 'behind', 'sold', 'programme', 'which', 'well', 'able', 'attack', 'leader', 'anomaly', 'tackled', 'Sunday', 'genius', 'primary', 'make', 'John', 'prize', 'awful', 'foundation', 'volunteer', 'opinion', 'schools', 'setting', 'RSVP', 'Mackintosh', 'That', 'around', 'spent', 'friendship', 'From', 'symposium', 'finalist', 'police', 'temperatures', 'Tiriti', 'bringing', 'mystery', 'stamps', 'beautiful', 'towards', 'perspective', 'Manly', 'times', 'Get', 'Malone', 'groundwater', 'deals', 'lasting', 'US', 'link', 'balance', 'membership', 'used', 'design', 'strength', 'policy', 'he', 'news', 'safer', 'was', 'instruments', 'modelling', 'mineral', 'itself', 'Mandarin', 'means', 'works', 'Judy', 'Traditional', 'Josef', 'lunchtime', 'being', 'prevention', 'created', 'Syrian', 'Think', 'online', 'seeing', 'specialist', 'Chair', 'powerful', 'Zealander', 'George', 'Eleanor', 'came', 'Student', 'blossomed', 'helps', 'report', 'descend', 'Miss', 'Global', 'Prime', 'looking', 'Franz', 'published', 'head', 'tackle', 'shape', 'down', 'none', 'Just', 'Press', 'Southeast', 'falling', 'Institute', 'abuse', 'rarely', 'global', 'Anderson', 'Gisborne', 'offspring', 'results', 'air', 'Zoë', 'between', 'essay', 'warming', 'Accent', 'featuring', 'where', 'shortlisted', 'Kelburn', 'traditions', 'took', 'Shep', 'projects', 'Schipper', 'form', 'mirrors', 'update', 'impacts', 'writing', 'Centres', 'author', 'visiting', 'architectural', 'funding', 'fantastic', 'Latest', 'Hear', 'susceptibility', 'Bevan', 'practitioners', 'former', 'union', 'warm', 'loudly', 'Share', 'Maria', 'discuss', 'Today', 'forward', 'team', 'billion', 'Elizabeth', 'sets', 'Linklater', 'tickets', 'Green', 'staff', 'care', 'Asian', 'teaches', 'does', 'fossils', 'hunt', 'rest', 'universities', 'climate', 'Goh', 'talked', 'Course', 'Trenberth', 'insights', 'man', 'Learn', 'grew', 'traits', 'grows', 'community', 'curator', 'postal', 'Sydney', 'prisons', 'Reinventing', 'Liam', 'independent', 'mental', 'Andrew', 'display', 'mobile', 'Gibbs', 'wheelie', 'names', 'features', 'raised', 'breathing', 'dinosaur', 'Gallery', 'miss', 'buildings', 'computer', 'quirks', 'record', 'phonecall', 'Tolerate', 'Sheat', 'role', 'Carwyn', 'trickle', 'You', 'Grant', 'Labour', 'innovators', 'two', 'examining', 'installation', 'quite', 'slippery', 'bitter', 'Confucius', 'Instagram', 'book', 'mapping', 'app', 'tumours', 'Intercultural', 'piece', 'Jones', 'Olivia', 'worldwide', 'Andes', 'time', 'sunrise', 'analyses', 'increases', 'Well', 'flora', 'Mikado', 'highly', 'o', 'alliance', 'personality', 'manage', 'period', 'law', 'Te', 'findings', 'Delve', 'made', 'messages', 'public', 'printed', 'healing', 'Las', 'creating', 'Eric', 'moment', 'globalised', 'researchers', 'seen', 'business', 'Tiong', 'writer', 'started', 'over', 'continent', 'Tank', 'Next', 'winning', 'Asia', 'suggests', 'debut', 'More', 'adapt', 'top', 'become', 'presented', 'prior', 'recap', 'prestigious', 'art', 'architecture', 'kawenata', 'recipient', 'Rob', 'earthquakes', 'subjects', 'Army', 'targeted', 'asks', 'slope', 'officially', 'taongo', 'Mana', 'fact', 'alumna', 'sex', 'identified', 'glaciologist', 'volume', 'Flutey', 'researching', 'Love', 'vital', 'Marc', 'Deidre', 'coldest', 'member', 'Māori', 'recent', 'ceremony', 'named', 'explore', 'tutor', 'Bargh', 'workshop', 'BNZ', 'VR', 'best', 'species', 'elderly', 'supporter', 'hosts', 'Rupert', 'send', 'effective', 'misleading', 'Treaty', 'Secondary', 'did', 'gender', 'thrilled', 'despite', 'Linda', 'led', 'Brian', 'keen', 'Have', 'Lawrence', 'state', 'using', 'incoming', 'gets', 'Ecuador', 'series', 'going', 'lags', 'tonight', 'James', 'How', 'exotic', 'torture', 'Lee', 'warns', 'awards', 'experts', 'Wilson', 'Ends', 'email', 'Orders', 'refusal', 'productivity', 'social', 'decline', 'Crampton', 'Fred', 'senior', 'Sorry', 'impact', 'kindy', 'surface', 'offices', 'Executive', 'Leadership', 'presidency', 'been', 'together', 'give', 'settlements', 'show', 'Thorne', 'rotundas', 'shipping', 'history', 'Book', 'Turnbull', 'White', 'era', 'band', 'tool', 'Stanley', 'Morris', 'principals', 'big', 'improve', 'list', 'pollution', 'Ayson', 'why', 'An', 'volunteers', 'ever', 'Urewera', 'exhibition', 'foreign', 'modify', 'free', 'site', 'welcomed', 'since', 'Visiting', 'lead', 'scientist', 'Lewis', 'Catton', 'consultancy', 'Scott', 'must', 'mean', 'her', 'Inspired', 'precipitation', 'survey', 'try', 'Twitter', 'Wayne', 'teachers', 'next', 'strong', 'Rehearsal', 'Rignot', 'Strategic', 'lecture', 'during', 'introduced', 'This', 'established', 'populism', 'exploring', 'focuses', 'challenges', 'rankings', 'policies', 'Waitangi', 'provides'}\n"
     ]
    }
   ],
   "source": [
    "print(unique_victoria_words - unique_massey_words)"
   ]
  },
  {
   "cell_type": "code",
   "execution_count": 30,
   "metadata": {
    "collapsed": false
   },
   "outputs": [
    {
     "name": "stdout",
     "output_type": "stream",
     "text": [
      "{'Need', 'Taranaki', 'empowering', 'earning', 'Tamariki', 'costs', 'Faleolo', 'Spaces', 'consumers', 'RadioLive', 'hero', 'Jon', 'expanding', 'iwi', 'support', 'women', 'Cup', 'gang', 'Details', 'spaces', 'partners', 'blockbuster', 'Regional', 'training', 'awesome', 'Kiwi', 'Low', 'fire', 'us', 'regional', 'food', 'Club', 'Yule', 'minute', 'grow', 'snr', 'journos', 'Aucklands', 'country', 'Jenny', 'tribute', 'Rising', 'she', 'after', 'focus', 'revolutionises', 'World', 'fuel', 'ideas', 'assist', 'three', 'transport', 'Kenshin', 'style', 'Brock', 'Robinson', 'via', 'peaceful', 'date', 'everyone', 'March', 'accommodation', 'wait', 'Facebook', 'introduces', 'when', 'outlook', 'Miles', 'decriminalising', 'working', 'Norris', 'Finance', 'tests', 'definitely', 'management', 'Had', 'cancer', 'featured', 'privilege', 'Studying', 'Check', 'BA', 'overstated', 'Professor', 'underway', 'Grafton', 'Whangarei', 'Glover', 'Coming', 'Come', 'olds', 'sustainable', 'reckons', 'mouldy', 'stop', 'discussed', 'Government', 'alive', 'Stannard', 'Wellington', 'Sir', 'immunisation', 'get', 'Do', 'night', 'Enjoying', 'hapū', 'behaviour', 'Ralph', 'each', 'ruled', 'tweets', 'also', 'Poduval', 'planning', 'hear', 'one', 'pay', 'emotions', 'forget', 'dairy', 'detection', 'In', 'checking', 'Super', 'Steve', 'Budget', 'much', 'information', 'Dan', 'Would', 'ready', 'Monday', 'Spoke', 'Lots', 'levels', 'Hospital', 'breastfeeding', 'troubled', 'example', 'opening', 'screened', 'UFC', 'Union', 'economic', 'MASSEY', 'grades', 'addressing', 'limited', 'On', 'distance', 'But', 'Marketing', 'short', 'Hamilton', 'deficiency', 'alumnus', 'FREE', 'Moderate', 'So', 'Hon', 'rates', 'dogs', 'expert', 'fight', 'Wilkins', 'Hamish', 'CEO', 'these', 'cannabis', 'campuses', 'Palmer', 'Research', 'education', 'Worlds', 'Everyone', 'curb', 'Fighting', 'Is', 'screening', 'Beer', 'Northland', 'Palmerston', 'semester', 'diabetes', 'development', 'situation', 'responsive', 'call', 'moving', 'backs', 'Business', 'no', 'microchip', 'von', 'Especially', 'hurry', 'North', 'Bishell', 'HR', 'Barbara', 'nursing', 'plans', 'Greg', 'VC', 'release', 'lovely', 'Harbour', 'bigger', 'rate', 'steroid', 'Pam', 'OK', 'little', 'Janet', 'University', 'councils', 'Carryer', 'professor', 'candidate', 'whether', 'pledged', 'Joyce', 'my', 'TUNE', 'drinking', 'Shaun', 'Game', 'Industry', 'April', 'P', 'Manawatu', 'Japanese', 'Paul', 'N', 'formal', 'Mau', 'here', 'years', 'hosting', 'We', 'known', 'Researcher', 'finding', 'office', 'Wednesday', 'Michael', 'Weber', 'Journalism', 'trilogy', 'National', 'help', 'reveals', 'Moses', 'keeping', 'growth', 'drink', 'vision', 'complicated', 'morning', 'vaping', 'shared', 'Mataram', 'getting', 'Hurst', 'conference', 'philgoffmp', 'youth', 'eat', 'meth', 'shortages', 'thrilling', 'Day', 'missing', 'Enjoy', 'Nutrient', 'speech', 'ambitious', 'sport', 'International', 'Rurouni', 'Steven', 'Maori', 'Looking', 'Pop', 'having', 'cost', 'transfer', 'prospects', 'meet', 'Pays', 'requires', 'Aviation', 'due', 'day', 'Great', 'fun', 'allow', 'Dairy', 'Auckland', 'order', 'difficult', 'risk', 'agreed', 'Jane', 'wants', 'Chancellor', 'too', 'writes', 'Karaka', 'investment', 'perfect', 'Women', 'Ashok', 'needed', 'wrong', 'less', 'without', 'Precision', 'urgent', 'Read', 'problem', 'IN', 'crisis', 'tax', 'sign', 'Thrones', 'see', 'happened', 'Political', 'absolutely', 'action', 'current', 'predict', 'alcohol', 'tips', 'Parker', 'methamphetamine', 'CH', 'article', 'neuter', 'legalising', 'brighter', 'things', 'Lovely', 'Brilliant', 'Senior', 'Elliot', 'look', 'quick', 'casual', 'Kiwibank', 'like', 'mother', 'building', 'TPP', 'minds', 'page', 'conclusion', 'evidence', 'Benefits', 'infrastructure', 'legs', 'Ahie', 'post', 'delves', 'lunch', 'create', 'false', 'speaks', 'scheme', 'Expert', 'Grove', 'opportunities', 'DNR', 'collaboration', 'Ali', 'Jo', 'Burlingame', 'Claire', 'mins', 'makes', 'slaps', 'balances', 'system', 'Samoa', 'alumni', 'Join', 'Chris', 'studying', 'Palmy', 'menacing', 'marvellous', 'Kara', 'official', 'Gisa', 'Biomechanics', 'patient', 'consent', 'envy', 'Carter', 'still', 'might', 'Classical', 'film', 'Kathryn', 'fastest', 'rugby', 'discover', 'Heightened', 'Americas', 'learn', 'Marewa', 'Sport', 'prevent', 'looks', 'higher', 'foetal', 'communities', 'uncertainty', 'Drug', 'all', 'anxious', 'breast', 'water', 'pool', 'Orientation', 'Calling', 'jokes', 'Narges', 'continued', 'threatens', 'Aotearoa', 'talking', 'AK', 'Alianmoghaddam', 'blogger', 'celebration', 'healthy', 'colleagues', 'latest', 'involved', 'Massey', 'speaking', 'website', 'comes'}\n"
     ]
    }
   ],
   "source": [
    "print(unique_massey_words - unique_victoria_words)"
   ]
  },
  {
   "cell_type": "markdown",
   "metadata": {},
   "source": [
    "Get the words that in one or other but not in both:\n",
    "|"
   ]
  },
  {
   "cell_type": "code",
   "execution_count": 31,
   "metadata": {
    "collapsed": false
   },
   "outputs": [
    {
     "name": "stdout",
     "output_type": "stream",
     "text": [
      "{'extra', 'Taranaki', 'ice', 'empowering', 'migration', 'Tamariki', 'inquiry', 'recorded', 'Faleolo', 'Spaces', 'RadioLive', 'feel', 'iwi', 'expanding', 'professional', 'What', 'firm', 'women', 'play', 'life', 'Steady', 'Cup', 'ranked', 'Travelling', 'publishes', 'Details', 'spaces', 'partners', 'training', 'academic', 'awesome', 'Kiwi', 'sold', 'Low', 'fire', 'us', 'which', 'regional', 'Club', 'Yule', 'attack', 'anomaly', 'Sunday', 'minute', 'grow', 'snr', 'journos', 'Aucklands', 'make', 'Jenny', 'tribute', 'after', 'awful', 'foundation', 'focus', 'volunteer', 'revolutionises', 'schools', 'setting', 'three', 'RSVP', 'Mackintosh', 'around', 'spent', 'style', 'Brock', 'friendship', 'symposium', 'Robinson', 'temperatures', 'via', 'peaceful', 'date', 'Tiriti', 'bringing', 'wait', 'Facebook', 'mystery', 'when', 'stamps', 'towards', 'working', 'Manly', 'times', 'groundwater', 'deals', 'Had', 'lasting', 'cancer', 'privilege', 'membership', 'Check', 'used', 'design', 'policy', 'Professor', 'he', 'Whangarei', 'was', 'Glover', 'itself', 'means', 'olds', 'works', 'reckons', 'Judy', 'Josef', 'stop', 'discussed', 'Syrian', 'Government', 'online', 'specialist', 'Chair', 'Stannard', 'Sir', 'Wellington', 'George', 'get', 'Do', 'Eleanor', 'came', 'night', 'hapū', 'behaviour', 'Ralph', 'ruled', 'looking', 'also', 'published', 'head', 'down', 'shape', 'planning', 'Just', 'Press', 'hear', 'falling', 'Institute', 'abuse', 'rarely', 'global', 'emotions', 'Anderson', 'dairy', 'detection', 'offspring', 'results', 'air', 'Zoë', 'Super', 'between', 'essay', 'Steve', 'where', 'shortlisted', 'Would', 'Dan', 'ready', 'took', 'Monday', 'Spoke', 'Lots', 'Hospital', 'troubled', 'example', 'Schipper', 'form', 'mirrors', 'screened', 'update', 'impacts', 'Centres', 'economic', 'author', 'visiting', 'architectural', 'funding', 'fantastic', 'MASSEY', 'grades', 'addressing', 'susceptibility', 'limited', 'On', 'distance', 'But', 'former', 'union', 'warm', 'Marketing', 'Share', 'deficiency', 'FREE', 'So', 'rates', 'dogs', 'Today', 'forward', 'Wilkins', 'CEO', 'team', 'billion', 'cannabis', 'Linklater', 'Research', 'Worlds', 'Green', 'staff', 'Asian', 'teaches', 'Northland', 'does', 'diabetes', 'situation', 'fossils', 'hunt', 'call', 'rest', 'climate', 'backs', 'Business', 'no', 'Course', 'Trenberth', 'insights', 'man', 'traits', 'grows', 'Especially', 'community', 'curator', 'prisons', 'hurry', 'Liam', 'Bishell', 'plans', 'Gibbs', 'Greg', 'VC', 'release', 'bigger', 'dinosaur', 'Gallery', 'buildings', 'steroid', 'quirks', 'OK', 'University', 'Labour', 'Carryer', 'innovators', 'candidate', 'TUNE', 'slippery', 'Game', 'Industry', 'bitter', 'April', 'Manawatu', 'Instagram', 'Paul', 'N', 'mapping', 'formal', 'Mau', 'tumours', 'Intercultural', 'Jones', 'Olivia', 'worldwide', 'Andes', 'years', 'hosting', 'We', 'time', 'finding', 'office', 'Wednesday', 'Michael', 'Weber', 'sunrise', 'Journalism', 'analyses', 'increases', 'Mikado', 'highly', 'o', 'alliance', 'help', 'personality', 'period', 'reveals', 'law', 'findings', 'keeping', 'public', 'complicated', 'healing', 'Las', 'vaping', 'Mataram', 'getting', 'creating', 'Hurst', 'conference', 'Eric', 'youth', 'eat', 'meth', 'shortages', 'researchers', 'seen', 'thrilling', 'business', 'Tiong', 'started', 'continent', 'Next', 'winning', 'speech', 'debut', 'adapt', 'sport', 'International', 'Rurouni', 'Maori', 'Looking', 'prestigious', 'having', 'art', 'Pays', 'requires', 'recipient', 'Rob', 'Aviation', 'subjects', 'due', 'targeted', 'fun', 'slope', 'taongo', 'Mana', 'allow', 'Dairy', 'risk', 'agreed', 'glaciologist', 'wants', 'Chancellor', 'too', 'Flutey', 'researching', 'investment', 'Women', 'Māori', 'needed', 'wrong', 'named', 'Precision', 'urgent', 'explore', 'Read', 'IN', 'see', 'Political', 'happened', 'Bargh', 'predict', 'VR', 'best', 'tips', 'species', 'elderly', 'supporter', 'hosts', 'CH', 'send', 'brighter', 'things', 'Lovely', 'Elliot', 'did', 'look', 'thrilled', 'despite', 'Linda', 'casual', 'led', 'like', 'keen', 'mother', 'Have', 'minds', 'state', 'using', 'gets', 'going', 'legs', 'tonight', 'Ahie', 'delves', 'lunch', 'speaks', 'experts', 'Orders', 'email', 'Expert', 'DNR', 'productivity', 'collaboration', 'Jo', 'impact', 'surface', 'Burlingame', 'Claire', 'offices', 'Leadership', 'mins', 'balances', 'been', 'give', 'Samoa', 'alumni', 'history', 'Book', 'Palmy', 'Kara', 'band', 'Biomechanics', 'patient', 'Morris', 'envy', 'still', 'Classical', 'film', 'Kathryn', 'list', 'pollution', 'discover', 'Ayson', 'why', 'An', 'Heightened', 'Americas', 'ever', 'learn', 'exhibition', 'foreign', 'free', 'site', 'welcomed', 'since', 'Lewis', 'Catton', 'consultancy', 'foetal', 'uncertainty', 'mean', 'Inspired', 'try', 'Twitter', 'Wayne', 'anxious', 'breast', 'next', 'pool', 'Calling', 'Rehearsal', 'Rignot', 'continued', 'Aotearoa', 'introduced', 'celebration', 'This', 'colleagues', 'established', 'latest', 'populism', 'Massey', 'exploring', 'focuses', 'challenges', 'comes', 'Need', 'Marten', 'earning', 'costs', 'Master', 'Vercauteren', 'Volunteer', 'consumers', 'hero', 'Jon', 'Vanessa', 'irony', 'Vincent', 'support', 'pics', 'Friday', 'fauna', 'One', 'really', 'gang', 'blockbuster', 'Regional', 'Excellence', 'systems', 'before', 'they', 'emissions', 'behind', 'programme', 'food', 'well', 'able', 'leader', 'tackled', 'genius', 'primary', 'country', 'John', 'Rising', 'she', 'prize', 'opinion', 'World', 'fuel', 'ideas', 'assist', 'transport', 'Kenshin', 'That', 'From', 'finalist', 'police', 'everyone', 'March', 'accommodation', 'introduces', 'outlook', 'Miles', 'decriminalising', 'beautiful', 'perspective', 'Norris', 'Get', 'Malone', 'Finance', 'tests', 'definitely', 'management', 'US', 'link', 'featured', 'balance', 'Studying', 'BA', 'strength', 'overstated', 'underway', 'Grafton', 'news', 'safer', 'instruments', 'modelling', 'mineral', 'Coming', 'Come', 'Mandarin', 'sustainable', 'Traditional', 'lunchtime', 'being', 'prevention', 'created', 'mouldy', 'Think', 'seeing', 'alive', 'powerful', 'Zealander', 'immunisation', 'Student', 'blossomed', 'Enjoying', 'helps', 'report', 'descend', 'Miss', 'Global', 'each', 'Prime', 'tweets', 'Franz', 'Poduval', 'tackle', 'none', 'one', 'Southeast', 'pay', 'forget', 'In', 'checking', 'Gisborne', 'warming', 'Accent', 'Budget', 'featuring', 'Kelburn', 'much', 'information', 'traditions', 'Shep', 'levels', 'breastfeeding', 'projects', 'opening', 'UFC', 'Union', 'writing', 'Latest', 'Hear', 'Bevan', 'practitioners', 'loudly', 'short', 'Hamilton', 'alumnus', 'Moderate', 'Maria', 'Hon', 'discuss', 'expert', 'fight', 'Hamish', 'Elizabeth', 'sets', 'these', 'campuses', 'Palmer', 'education', 'tickets', 'Everyone', 'curb', 'Fighting', 'care', 'Is', 'screening', 'Beer', 'Palmerston', 'semester', 'development', 'responsive', 'universities', 'Goh', 'moving', 'talked', 'microchip', 'von', 'Learn', 'grew', 'postal', 'Sydney', 'North', 'Reinventing', 'independent', 'mental', 'Andrew', 'HR', 'display', 'mobile', 'Barbara', 'nursing', 'lovely', 'wheelie', 'Harbour', 'names', 'features', 'raised', 'breathing', 'rate', 'miss', 'computer', 'Pam', 'record', 'phonecall', 'Tolerate', 'Sheat', 'role', 'trickle', 'Carwyn', 'Janet', 'little', 'councils', 'You', 'Grant', 'professor', 'two', 'whether', 'pledged', 'examining', 'Joyce', 'installation', 'quite', 'my', 'drinking', 'Shaun', 'P', 'Confucius', 'Japanese', 'book', 'app', 'here', 'piece', 'known', 'Researcher', 'Well', 'flora', 'trilogy', 'National', 'manage', 'Te', 'Moses', 'Delve', 'growth', 'made', 'messages', 'drink', 'vision', 'printed', 'morning', 'shared', 'moment', 'philgoffmp', 'globalised', 'Day', 'missing', 'writer', 'over', 'Enjoy', 'Tank', 'Nutrient', 'Asia', 'suggests', 'More', 'ambitious', 'top', 'Steven', 'become', 'presented', 'prior', 'Pop', 'recap', 'cost', 'transfer', 'prospects', 'meet', 'architecture', 'kawenata', 'earthquakes', 'day', 'Army', 'Great', 'asks', 'officially', 'fact', 'Auckland', 'order', 'difficult', 'alumna', 'sex', 'identified', 'volume', 'Jane', 'Love', 'writes', 'vital', 'Karaka', 'Marc', 'perfect', 'Deidre', 'coldest', 'member', 'recent', 'Ashok', 'less', 'ceremony', 'without', 'tutor', 'problem', 'sign', 'crisis', 'tax', 'Thrones', 'absolutely', 'action', 'current', 'workshop', 'BNZ', 'alcohol', 'Parker', 'Rupert', 'methamphetamine', 'article', 'effective', 'neuter', 'legalising', 'misleading', 'Treaty', 'Secondary', 'Brilliant', 'Senior', 'quick', 'gender', 'Kiwibank', 'Brian', 'building', 'TPP', 'Lawrence', 'incoming', 'Ecuador', 'page', 'series', 'conclusion', 'evidence', 'Benefits', 'infrastructure', 'lags', 'post', 'James', 'How', 'exotic', 'create', 'torture', 'Lee', 'false', 'warns', 'scheme', 'awards', 'Wilson', 'Ends', 'Grove', 'opportunities', 'refusal', 'social', 'decline', 'Ali', 'Crampton', 'Fred', 'senior', 'Sorry', 'kindy', 'Executive', 'makes', 'presidency', 'slaps', 'together', 'system', 'settlements', 'show', 'Join', 'Thorne', 'rotundas', 'shipping', 'Chris', 'studying', 'Turnbull', 'menacing', 'White', 'marvellous', 'era', 'official', 'tool', 'Stanley', 'Gisa', 'principals', 'consent', 'Carter', 'might', 'big', 'fastest', 'improve', 'rugby', 'volunteers', 'Marewa', 'Urewera', 'Sport', 'prevent', 'modify', 'Visiting', 'looks', 'lead', 'higher', 'scientist', 'Scott', 'communities', 'must', 'her', 'Drug', 'precipitation', 'teachers', 'survey', 'all', 'water', 'strong', 'Orientation', 'jokes', 'Narges', 'threatens', 'Strategic', 'talking', 'lecture', 'during', 'AK', 'Alianmoghaddam', 'blogger', 'healthy', 'involved', 'speaking', 'rankings', 'policies', 'website', 'Waitangi', 'provides'}\n"
     ]
    }
   ],
   "source": [
    "print(unique_massey_words ^ unique_victoria_words)"
   ]
  }
 ],
 "metadata": {
  "kernelspec": {
   "display_name": "Python 3",
   "language": "python",
   "name": "python3"
  },
  "language_info": {
   "codemirror_mode": {
    "name": "ipython",
    "version": 3
   },
   "file_extension": ".py",
   "mimetype": "text/x-python",
   "name": "python",
   "nbconvert_exporter": "python",
   "pygments_lexer": "ipython3",
   "version": "3.6.0"
  }
 },
 "nbformat": 4,
 "nbformat_minor": 2
}

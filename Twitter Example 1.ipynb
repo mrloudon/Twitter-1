{
 "cells": [
  {
   "cell_type": "markdown",
   "metadata": {},
   "source": [
    "# Twitter Example   \n",
    "## ACE Cluster\n",
    "### School of Psychology, Massey University\n",
    "\n",
    "**Twitter API Setup:**\n",
    "To use the Twitter API you need to register as an app developer. All you need is a Twitter account. When you register an app you are given four encryption keys, two public and two private. One pair is to identify you to the Twitter server and the other is to allow  someone using your app to give you access to their data without them having to share their private credentials with your app."
   ]
  },
  {
   "cell_type": "code",
   "execution_count": 8,
   "metadata": {
    "collapsed": false
   },
   "outputs": [
    {
     "name": "stdout",
     "output_type": "stream",
     "text": [
      "<twitter.api.Twitter object at 0x03AE5CF0>\n"
     ]
    }
   ],
   "source": [
    "import twitter\n",
    "\n",
    "consumer_key, consumer_secret = twitter.read_token_file(\"consumer.txt\")\n",
    "oauth_token, oauth_secret = twitter.read_token_file(\"oauth.txt\") \n",
    "auth = twitter.oauth.OAuth(oauth_token, oauth_secret, consumer_key, consumer_secret)\n",
    "twitter_api = twitter.Twitter(auth=auth)\n",
    "print(twitter_api)"
   ]
  },
  {
   "cell_type": "markdown",
   "metadata": {},
   "source": [
    "The **twitter_api** object exists which means we are good to go.\n",
    "\n",
    "Let's find out what we know about @MasseyUni:"
   ]
  },
  {
   "cell_type": "code",
   "execution_count": 104,
   "metadata": {
    "collapsed": false,
    "scrolled": true
   },
   "outputs": [
    {
     "name": "stdout",
     "output_type": "stream",
     "text": [
      "dict_keys(['id', 'id_str', 'name', 'screen_name', 'location', 'profile_location', 'description', 'url', 'entities', 'protected', 'followers_count', 'friends_count', 'listed_count', 'created_at', 'favourites_count', 'utc_offset', 'time_zone', 'geo_enabled', 'verified', 'statuses_count', 'lang', 'status', 'contributors_enabled', 'is_translator', 'is_translation_enabled', 'profile_background_color', 'profile_background_image_url', 'profile_background_image_url_https', 'profile_background_tile', 'profile_image_url', 'profile_image_url_https', 'profile_banner_url', 'profile_link_color', 'profile_sidebar_border_color', 'profile_sidebar_fill_color', 'profile_text_color', 'profile_use_background_image', 'has_extended_profile', 'default_profile', 'default_profile_image', 'following', 'follow_request_sent', 'notifications', 'translator_type'])\n"
     ]
    }
   ],
   "source": [
    "massey_info = twitter_api.users.show(screen_name = \"MasseyUni\")\n",
    "print(massey_info.keys())"
   ]
  },
  {
   "cell_type": "markdown",
   "metadata": {},
   "source": [
    "Lots of goodies. Let's check out the profile image:"
   ]
  },
  {
   "cell_type": "code",
   "execution_count": 105,
   "metadata": {
    "collapsed": false
   },
   "outputs": [
    {
     "name": "stdout",
     "output_type": "stream",
     "text": [
      "http://pbs.twimg.com/profile_images/2039681940/massey-profile-pic_normal.jpg\n"
     ]
    }
   ],
   "source": [
    "print(massey_info['profile_image_url'])"
   ]
  },
  {
   "cell_type": "markdown",
   "metadata": {},
   "source": [
    "How many followers does @MasseyUni have?"
   ]
  },
  {
   "cell_type": "code",
   "execution_count": 106,
   "metadata": {
    "collapsed": false
   },
   "outputs": [
    {
     "name": "stdout",
     "output_type": "stream",
     "text": [
      "11844\n"
     ]
    }
   ],
   "source": [
    "print(massey_info[\"followers_count\"])"
   ]
  },
  {
   "cell_type": "markdown",
   "metadata": {},
   "source": [
    "How many Tweets (including retweets) has @MasseyUni issued?"
   ]
  },
  {
   "cell_type": "code",
   "execution_count": 107,
   "metadata": {
    "collapsed": false
   },
   "outputs": [
    {
     "name": "stdout",
     "output_type": "stream",
     "text": [
      "12908\n"
     ]
    }
   ],
   "source": [
    "print(massey_info[\"statuses_count\"])"
   ]
  },
  {
   "cell_type": "markdown",
   "metadata": {},
   "source": [
    "Let's grab some Tweets from @MasseyUni (which Twitter also calls **statuses** or **status updates**)."
   ]
  },
  {
   "cell_type": "code",
   "execution_count": 108,
   "metadata": {
    "collapsed": false
   },
   "outputs": [],
   "source": [
    "q = \"@MasseyUni\" # The query string - the string we are going to search Twitter with\n",
    "count = 5\n",
    "results = twitter_api.search.tweets(q=q, count=count)"
   ]
  },
  {
   "cell_type": "markdown",
   "metadata": {},
   "source": [
    " Like most web services, Twitter returns data in **json** format (json = JavaScript Object Notation)\n",
    " which is very similar to a Python dictionary containing other nested dictionaries and lists in its structure. To print json in a readable\n",
    " manner I will use the json dump string function aliased to dump.\n",
    " \n",
    " A tweet is only 140 characters but the information Twitter provides for each tweet is around 5kB."
   ]
  },
  {
   "cell_type": "code",
   "execution_count": 109,
   "metadata": {
    "collapsed": false
   },
   "outputs": [
    {
     "name": "stdout",
     "output_type": "stream",
     "text": [
      "{\n",
      "  \"statuses\": [\n",
      "    {\n",
      "      \"created_at\": \"Thu Mar 09 19:33:37 +0000 2017\",\n",
      "      \"id\": 839922137536172032,\n",
      "      \"id_str\": \"839922137536172032\",\n",
      "      \"text\": \"RT @TheAMShowNZ: @MasseyUni Political Marketing Expert Professor Claire Robinson says a co leadership wouldn't work for @nzlabour - \\\"it's p\\u2026\",\n",
      "      \"truncated\": false,\n",
      "      \"entities\": {\n",
      "        \"hashtags\": [],\n",
      "        \"symbols\": [],\n",
      "        \"user_mentions\": [\n",
      "          {\n",
      "            \"screen_name\": \"TheAMShowNZ\",\n",
      "            \"name\": \"The AM Show\",\n",
      "            \"id\": 2163648486,\n",
      "            \"id_str\": \"2163648486\",\n",
      "            \"indices\": [\n",
      "              3,\n",
      "              15\n",
      "            ]\n",
      "          },\n",
      "          {\n",
      "            \"screen_name\": \"MasseyUni\",\n",
      "            \"name\": \"Massey University\",\n",
      "            \"id\": 27494710,\n",
      "            \"id_str\": \"27494710\",\n",
      "            \"indices\": [\n",
      "              17,\n",
      "              27\n",
      "            ]\n",
      "          },\n",
      "          {\n",
      "            \"screen_name\": \"nzlabour\",\n",
      "            \"name\": \"New Zealand Labour\",\n",
      "            \"id\": 15466126,\n",
      "            \"id_str\": \"15466126\",\n",
      "            \"indices\": [\n",
      "              120,\n",
      "              129\n",
      "            ]\n",
      "          }\n",
      "        ],\n",
      "        \"urls\": []\n",
      "      },\n",
      "      \"metadata\": {\n",
      "        \"iso_language_code\": \"en\",\n",
      "        \"result_type\": \"recent\"\n",
      "      },\n",
      "      \"source\": \"<a href=\\\"http://twitter.com/download/iphone\\\" rel=\\\"nofollow\\\">Twitter for iPhone</a>\",\n",
      "      \"in_reply_to_status_id\": null,\n",
      "      \"in_reply_to_status_id_str\": null,\n",
      "      \"in_reply_to_user_id\": null,\n",
      "      \"in_reply_to_user_id_str\": null,\n",
      "      \"in_reply_to_screen_name\": null,\n",
      "      \"user\": {\n",
      "        \"id\": 176731709,\n",
      "        \"id_str\": \"176731709\",\n",
      "        \"name\": \"Claire Robinson\",\n",
      "        \"screen_name\": \"Spinprofessor\",\n",
      "        \"location\": \"Wellington\",\n",
      "        \"description\": \"Professor, political commentator, Pro Vice-Chancellor College of Creative Arts, Massey University, member Stakeholder Advisory Group Callaghan Innovation\",\n",
      "        \"url\": null,\n",
      "        \"entities\": {\n",
      "          \"description\": {\n",
      "            \"urls\": []\n",
      "          }\n",
      "        },\n",
      "        \"protected\": false,\n",
      "        \"followers_count\": 1805,\n",
      "        \"friends_count\": 542,\n",
      "        \"listed_count\": 60,\n",
      "        \"created_at\": \"Tue Aug 10 08:32:12 +0000 2010\",\n",
      "        \"favourites_count\": 237,\n",
      "        \"utc_offset\": 46800,\n",
      "        \"time_zone\": \"Wellington\",\n",
      "        \"geo_enabled\": false,\n",
      "        \"verified\": false,\n",
      "        \"statuses_count\": 3840,\n",
      "        \"lang\": \"en\",\n",
      "        \"contributors_enabled\": false,\n",
      "        \"is_translator\": false,\n",
      "        \"is_translation_enabled\": false,\n",
      "        \"profile_background_color\": \"533109\",\n",
      "        \"profile_background_image_url\": \"http://pbs.twimg.com/profile_background_images/392939837/popdoodle3__bottom_.jpg\",\n",
      "        \"profile_background_image_url_https\": \"https://pbs.twimg.com/profile_background_images/392939837/popdoodle3__bottom_.jpg\",\n",
      "        \"profile_background_tile\": true,\n",
      "        \"profile_image_url\": \"http://pbs.twimg.com/profile_images/680525533881434112/LOnhD8iE_normal.jpg\",\n",
      "        \"profile_image_url_https\": \"https://pbs.twimg.com/profile_images/680525533881434112/LOnhD8iE_normal.jpg\",\n",
      "        \"profile_banner_url\": \"https://pbs.twimg.com/profile_banners/176731709/1459796303\",\n",
      "        \"profile_link_color\": \"E71142\",\n",
      "        \"profile_sidebar_border_color\": \"FAAB3D\",\n",
      "        \"profile_sidebar_fill_color\": \"DFEDF0\",\n",
      "        \"profile_text_color\": \"4D2170\",\n",
      "        \"profile_use_background_image\": true,\n",
      "        \"has_extended_profile\": false,\n",
      "        \"default_profile\": false,\n",
      "        \"default_profile_image\": false,\n",
      "        \"following\": false,\n",
      "        \"follow_request_sent\": false,\n",
      "        \"notifications\": false,\n",
      "        \"translator_type\": \"none\"\n",
      "      },\n",
      "      \"geo\": null,\n",
      "      \"coordinates\": null,\n",
      "      \"place\": null,\n",
      "      \"contributors\": null,\n",
      "      \"retweeted_status\": {\n",
      "        \"created_at\": \"Thu Mar 09 18:52:02 +0000 2017\",\n",
      "        \"id\": 839911671829262336,\n",
      "        \"id_str\": \"839911671829262336\",\n",
      "        \"text\": \"@MasseyUni Political Marketing Expert Professor Claire Robinson says a co leadership wouldn't work for @nzlabour - \\\"it's problematic\\\"\",\n",
      "        \"truncated\": false,\n",
      "        \"entities\": {\n",
      "          \"hashtags\": [],\n",
      "          \"symbols\": [],\n",
      "          \"user_mentions\": [\n",
      "            {\n",
      "              \"screen_name\": \"MasseyUni\",\n",
      "              \"name\": \"Massey University\",\n",
      "              \"id\": 27494710,\n",
      "              \"id_str\": \"27494710\",\n",
      "              \"indices\": [\n",
      "                0,\n",
      "                10\n",
      "              ]\n",
      "            },\n",
      "            {\n",
      "              \"screen_name\": \"nzlabour\",\n",
      "              \"name\": \"New Zealand Labour\",\n",
      "              \"id\": 15466126,\n",
      "              \"id_str\": \"15466126\",\n",
      "              \"indices\": [\n",
      "                103,\n",
      "                112\n",
      "              ]\n",
      "            }\n",
      "          ],\n",
      "          \"urls\": []\n",
      "        },\n",
      "        \"metadata\": {\n",
      "          \"iso_language_code\": \"en\",\n",
      "          \"result_type\": \"recent\"\n",
      "        },\n",
      "        \"source\": \"<a href=\\\"http://twitter.com\\\" rel=\\\"nofollow\\\">Twitter Web Client</a>\",\n",
      "        \"in_reply_to_status_id\": null,\n",
      "        \"in_reply_to_status_id_str\": null,\n",
      "        \"in_reply_to_user_id\": 27494710,\n",
      "        \"in_reply_to_user_id_str\": \"27494710\",\n",
      "        \"in_reply_to_screen_name\": \"MasseyUni\",\n",
      "        \"user\": {\n",
      "          \"id\": 2163648486,\n",
      "          \"id_str\": \"2163648486\",\n",
      "          \"name\": \"The AM Show\",\n",
      "          \"screen_name\": \"TheAMShowNZ\",\n",
      "          \"location\": \"New Zealand\",\n",
      "          \"description\": \"\",\n",
      "          \"url\": \"https://t.co/YWG0zcrDNU\",\n",
      "          \"entities\": {\n",
      "            \"url\": {\n",
      "              \"urls\": [\n",
      "                {\n",
      "                  \"url\": \"https://t.co/YWG0zcrDNU\",\n",
      "                  \"expanded_url\": \"http://TheAMShow.co.nz\",\n",
      "                  \"display_url\": \"TheAMShow.co.nz\",\n",
      "                  \"indices\": [\n",
      "                    0,\n",
      "                    23\n",
      "                  ]\n",
      "                }\n",
      "              ]\n",
      "            },\n",
      "            \"description\": {\n",
      "              \"urls\": []\n",
      "            }\n",
      "          },\n",
      "          \"protected\": false,\n",
      "          \"followers_count\": 15196,\n",
      "          \"friends_count\": 849,\n",
      "          \"listed_count\": 123,\n",
      "          \"created_at\": \"Tue Oct 29 22:31:23 +0000 2013\",\n",
      "          \"favourites_count\": 6955,\n",
      "          \"utc_offset\": 46800,\n",
      "          \"time_zone\": \"Wellington\",\n",
      "          \"geo_enabled\": false,\n",
      "          \"verified\": false,\n",
      "          \"statuses_count\": 15668,\n",
      "          \"lang\": \"en\",\n",
      "          \"contributors_enabled\": false,\n",
      "          \"is_translator\": false,\n",
      "          \"is_translation_enabled\": false,\n",
      "          \"profile_background_color\": \"FFFFFF\",\n",
      "          \"profile_background_image_url\": \"http://pbs.twimg.com/profile_background_images/378800000171139274/DpnXCQ0A.jpeg\",\n",
      "          \"profile_background_image_url_https\": \"https://pbs.twimg.com/profile_background_images/378800000171139274/DpnXCQ0A.jpeg\",\n",
      "          \"profile_background_tile\": true,\n",
      "          \"profile_image_url\": \"http://pbs.twimg.com/profile_images/812124490700181504/5n2RwU7m_normal.jpg\",\n",
      "          \"profile_image_url_https\": \"https://pbs.twimg.com/profile_images/812124490700181504/5n2RwU7m_normal.jpg\",\n",
      "          \"profile_banner_url\": \"https://pbs.twimg.com/profile_banners/2163648486/1486592497\",\n",
      "          \"profile_link_color\": \"000000\",\n",
      "          \"profile_sidebar_border_color\": \"FFFFFF\",\n",
      "          \"profile_sidebar_fill_color\": \"DDEEF6\",\n",
      "          \"profile_text_color\": \"333333\",\n",
      "          \"profile_use_background_image\": false,\n",
      "          \"has_extended_profile\": false,\n",
      "          \"default_profile\": false,\n",
      "          \"default_profile_image\": false,\n",
      "          \"following\": false,\n",
      "          \"follow_request_sent\": false,\n",
      "          \"notifications\": false,\n",
      "          \"translator_type\": \"regular\"\n",
      "        },\n",
      "        \"geo\": null,\n",
      "        \"coordinates\": null,\n",
      "        \"place\": null,\n",
      "        \"contributors\": null,\n",
      "        \"is_quote_status\": false,\n",
      "        \"retweet_count\": 1,\n",
      "        \"favorite_count\": 0,\n",
      "        \"favorited\": false,\n",
      "        \"retweeted\": false,\n",
      "        \"lang\": \"en\"\n",
      "      },\n",
      "      \"is_quote_status\": false,\n",
      "      \"retweet_count\": 1,\n",
      "      \"favorite_count\": 0,\n",
      "      \"favorited\": false,\n",
      "      \"retweeted\": false,\n",
      "      \"lang\": \"en\"\n",
      "    },\n",
      "    {\n",
      "      \"created_at\": \"Thu Mar 09 19:33:29 +0000 2017\",\n",
      "      \"id\": 839922103918854144,\n",
      "      \"id_str\": \"839922103918854144\",\n",
      "      \"text\": \"RT @TheAMShowNZ: @MasseyUni Political Marketing Expert Professor Claire Robinson says the Adern brand for @nzlabour is good - \\\"she reflects\\u2026\",\n",
      "      \"truncated\": false,\n",
      "      \"entities\": {\n",
      "        \"hashtags\": [],\n",
      "        \"symbols\": [],\n",
      "        \"user_mentions\": [\n",
      "          {\n",
      "            \"screen_name\": \"TheAMShowNZ\",\n",
      "            \"name\": \"The AM Show\",\n",
      "            \"id\": 2163648486,\n",
      "            \"id_str\": \"2163648486\",\n",
      "            \"indices\": [\n",
      "              3,\n",
      "              15\n",
      "            ]\n",
      "          },\n",
      "          {\n",
      "            \"screen_name\": \"MasseyUni\",\n",
      "            \"name\": \"Massey University\",\n",
      "            \"id\": 27494710,\n",
      "            \"id_str\": \"27494710\",\n",
      "            \"indices\": [\n",
      "              17,\n",
      "              27\n",
      "            ]\n",
      "          },\n",
      "          {\n",
      "            \"screen_name\": \"nzlabour\",\n",
      "            \"name\": \"New Zealand Labour\",\n",
      "            \"id\": 15466126,\n",
      "            \"id_str\": \"15466126\",\n",
      "            \"indices\": [\n",
      "              106,\n",
      "              115\n",
      "            ]\n",
      "          }\n",
      "        ],\n",
      "        \"urls\": []\n",
      "      },\n",
      "      \"metadata\": {\n",
      "        \"iso_language_code\": \"en\",\n",
      "        \"result_type\": \"recent\"\n",
      "      },\n",
      "      \"source\": \"<a href=\\\"http://twitter.com/download/iphone\\\" rel=\\\"nofollow\\\">Twitter for iPhone</a>\",\n",
      "      \"in_reply_to_status_id\": null,\n",
      "      \"in_reply_to_status_id_str\": null,\n",
      "      \"in_reply_to_user_id\": null,\n",
      "      \"in_reply_to_user_id_str\": null,\n",
      "      \"in_reply_to_screen_name\": null,\n",
      "      \"user\": {\n",
      "        \"id\": 176731709,\n",
      "        \"id_str\": \"176731709\",\n",
      "        \"name\": \"Claire Robinson\",\n",
      "        \"screen_name\": \"Spinprofessor\",\n",
      "        \"location\": \"Wellington\",\n",
      "        \"description\": \"Professor, political commentator, Pro Vice-Chancellor College of Creative Arts, Massey University, member Stakeholder Advisory Group Callaghan Innovation\",\n",
      "        \"url\": null,\n",
      "        \"entities\": {\n",
      "          \"description\": {\n",
      "            \"urls\": []\n",
      "          }\n",
      "        },\n",
      "        \"protected\": false,\n",
      "        \"followers_count\": 1805,\n",
      "        \"friends_count\": 542,\n",
      "        \"listed_count\": 60,\n",
      "        \"created_at\": \"Tue Aug 10 08:32:12 +0000 2010\",\n",
      "        \"favourites_count\": 237,\n",
      "        \"utc_offset\": 46800,\n",
      "        \"time_zone\": \"Wellington\",\n",
      "        \"geo_enabled\": false,\n",
      "        \"verified\": false,\n",
      "        \"statuses_count\": 3840,\n",
      "        \"lang\": \"en\",\n",
      "        \"contributors_enabled\": false,\n",
      "        \"is_translator\": false,\n",
      "        \"is_translation_enabled\": false,\n",
      "        \"profile_background_color\": \"533109\",\n",
      "        \"profile_background_image_url\": \"http://pbs.twimg.com/profile_background_images/392939837/popdoodle3__bottom_.jpg\",\n",
      "        \"profile_background_image_url_https\": \"https://pbs.twimg.com/profile_background_images/392939837/popdoodle3__bottom_.jpg\",\n",
      "        \"profile_background_tile\": true,\n",
      "        \"profile_image_url\": \"http://pbs.twimg.com/profile_images/680525533881434112/LOnhD8iE_normal.jpg\",\n",
      "        \"profile_image_url_https\": \"https://pbs.twimg.com/profile_images/680525533881434112/LOnhD8iE_normal.jpg\",\n",
      "        \"profile_banner_url\": \"https://pbs.twimg.com/profile_banners/176731709/1459796303\",\n",
      "        \"profile_link_color\": \"E71142\",\n",
      "        \"profile_sidebar_border_color\": \"FAAB3D\",\n",
      "        \"profile_sidebar_fill_color\": \"DFEDF0\",\n",
      "        \"profile_text_color\": \"4D2170\",\n",
      "        \"profile_use_background_image\": true,\n",
      "        \"has_extended_profile\": false,\n",
      "        \"default_profile\": false,\n",
      "        \"default_profile_image\": false,\n",
      "        \"following\": false,\n",
      "        \"follow_request_sent\": false,\n",
      "        \"notifications\": false,\n",
      "        \"translator_type\": \"none\"\n",
      "      },\n",
      "      \"geo\": null,\n",
      "      \"coordinates\": null,\n",
      "      \"place\": null,\n",
      "      \"contributors\": null,\n",
      "      \"retweeted_status\": {\n",
      "        \"created_at\": \"Thu Mar 09 18:51:07 +0000 2017\",\n",
      "        \"id\": 839911444279803904,\n",
      "        \"id_str\": \"839911444279803904\",\n",
      "        \"text\": \"@MasseyUni Political Marketing Expert Professor Claire Robinson says the Adern brand for @nzlabour is good - \\\"she reflects a particular gen\\\"\",\n",
      "        \"truncated\": false,\n",
      "        \"entities\": {\n",
      "          \"hashtags\": [],\n",
      "          \"symbols\": [],\n",
      "          \"user_mentions\": [\n",
      "            {\n",
      "              \"screen_name\": \"MasseyUni\",\n",
      "              \"name\": \"Massey University\",\n",
      "              \"id\": 27494710,\n",
      "              \"id_str\": \"27494710\",\n",
      "              \"indices\": [\n",
      "                0,\n",
      "                10\n",
      "              ]\n",
      "            },\n",
      "            {\n",
      "              \"screen_name\": \"nzlabour\",\n",
      "              \"name\": \"New Zealand Labour\",\n",
      "              \"id\": 15466126,\n",
      "              \"id_str\": \"15466126\",\n",
      "              \"indices\": [\n",
      "                89,\n",
      "                98\n",
      "              ]\n",
      "            }\n",
      "          ],\n",
      "          \"urls\": []\n",
      "        },\n",
      "        \"metadata\": {\n",
      "          \"iso_language_code\": \"en\",\n",
      "          \"result_type\": \"recent\"\n",
      "        },\n",
      "        \"source\": \"<a href=\\\"http://twitter.com\\\" rel=\\\"nofollow\\\">Twitter Web Client</a>\",\n",
      "        \"in_reply_to_status_id\": null,\n",
      "        \"in_reply_to_status_id_str\": null,\n",
      "        \"in_reply_to_user_id\": 27494710,\n",
      "        \"in_reply_to_user_id_str\": \"27494710\",\n",
      "        \"in_reply_to_screen_name\": \"MasseyUni\",\n",
      "        \"user\": {\n",
      "          \"id\": 2163648486,\n",
      "          \"id_str\": \"2163648486\",\n",
      "          \"name\": \"The AM Show\",\n",
      "          \"screen_name\": \"TheAMShowNZ\",\n",
      "          \"location\": \"New Zealand\",\n",
      "          \"description\": \"\",\n",
      "          \"url\": \"https://t.co/YWG0zcrDNU\",\n",
      "          \"entities\": {\n",
      "            \"url\": {\n",
      "              \"urls\": [\n",
      "                {\n",
      "                  \"url\": \"https://t.co/YWG0zcrDNU\",\n",
      "                  \"expanded_url\": \"http://TheAMShow.co.nz\",\n",
      "                  \"display_url\": \"TheAMShow.co.nz\",\n",
      "                  \"indices\": [\n",
      "                    0,\n",
      "                    23\n",
      "                  ]\n",
      "                }\n",
      "              ]\n",
      "            },\n",
      "            \"description\": {\n",
      "              \"urls\": []\n",
      "            }\n",
      "          },\n",
      "          \"protected\": false,\n",
      "          \"followers_count\": 15196,\n",
      "          \"friends_count\": 849,\n",
      "          \"listed_count\": 123,\n",
      "          \"created_at\": \"Tue Oct 29 22:31:23 +0000 2013\",\n",
      "          \"favourites_count\": 6955,\n",
      "          \"utc_offset\": 46800,\n",
      "          \"time_zone\": \"Wellington\",\n",
      "          \"geo_enabled\": false,\n",
      "          \"verified\": false,\n",
      "          \"statuses_count\": 15668,\n",
      "          \"lang\": \"en\",\n",
      "          \"contributors_enabled\": false,\n",
      "          \"is_translator\": false,\n",
      "          \"is_translation_enabled\": false,\n",
      "          \"profile_background_color\": \"FFFFFF\",\n",
      "          \"profile_background_image_url\": \"http://pbs.twimg.com/profile_background_images/378800000171139274/DpnXCQ0A.jpeg\",\n",
      "          \"profile_background_image_url_https\": \"https://pbs.twimg.com/profile_background_images/378800000171139274/DpnXCQ0A.jpeg\",\n",
      "          \"profile_background_tile\": true,\n",
      "          \"profile_image_url\": \"http://pbs.twimg.com/profile_images/812124490700181504/5n2RwU7m_normal.jpg\",\n",
      "          \"profile_image_url_https\": \"https://pbs.twimg.com/profile_images/812124490700181504/5n2RwU7m_normal.jpg\",\n",
      "          \"profile_banner_url\": \"https://pbs.twimg.com/profile_banners/2163648486/1486592497\",\n",
      "          \"profile_link_color\": \"000000\",\n",
      "          \"profile_sidebar_border_color\": \"FFFFFF\",\n",
      "          \"profile_sidebar_fill_color\": \"DDEEF6\",\n",
      "          \"profile_text_color\": \"333333\",\n",
      "          \"profile_use_background_image\": false,\n",
      "          \"has_extended_profile\": false,\n",
      "          \"default_profile\": false,\n",
      "          \"default_profile_image\": false,\n",
      "          \"following\": false,\n",
      "          \"follow_request_sent\": false,\n",
      "          \"notifications\": false,\n",
      "          \"translator_type\": \"regular\"\n",
      "        },\n",
      "        \"geo\": null,\n",
      "        \"coordinates\": null,\n",
      "        \"place\": null,\n",
      "        \"contributors\": null,\n",
      "        \"is_quote_status\": false,\n",
      "        \"retweet_count\": 1,\n",
      "        \"favorite_count\": 0,\n",
      "        \"favorited\": false,\n",
      "        \"retweeted\": false,\n",
      "        \"lang\": \"en\"\n",
      "      },\n",
      "      \"is_quote_status\": false,\n",
      "      \"retweet_count\": 1,\n",
      "      \"favorite_count\": 0,\n",
      "      \"favorited\": false,\n",
      "      \"retweeted\": false,\n",
      "      \"lang\": \"en\"\n",
      "    },\n",
      "    {\n",
      "      \"created_at\": \"Thu Mar 09 19:33:23 +0000 2017\",\n",
      "      \"id\": 839922079889629184,\n",
      "      \"id_str\": \"839922079889629184\",\n",
      "      \"text\": \"RT @TheAMShowNZ: @MasseyUni Political Marketing Expert Professor Claire Robinson - \\\"@jacindaardern will attract younger voters\\\"\",\n",
      "      \"truncated\": false,\n",
      "      \"entities\": {\n",
      "        \"hashtags\": [],\n",
      "        \"symbols\": [],\n",
      "        \"user_mentions\": [\n",
      "          {\n",
      "            \"screen_name\": \"TheAMShowNZ\",\n",
      "            \"name\": \"The AM Show\",\n",
      "            \"id\": 2163648486,\n",
      "            \"id_str\": \"2163648486\",\n",
      "            \"indices\": [\n",
      "              3,\n",
      "              15\n",
      "            ]\n",
      "          },\n",
      "          {\n",
      "            \"screen_name\": \"MasseyUni\",\n",
      "            \"name\": \"Massey University\",\n",
      "            \"id\": 27494710,\n",
      "            \"id_str\": \"27494710\",\n",
      "            \"indices\": [\n",
      "              17,\n",
      "              27\n",
      "            ]\n",
      "          },\n",
      "          {\n",
      "            \"screen_name\": \"jacindaardern\",\n",
      "            \"name\": \"Jacinda Ardern\",\n",
      "            \"id\": 22959763,\n",
      "            \"id_str\": \"22959763\",\n",
      "            \"indices\": [\n",
      "              84,\n",
      "              98\n",
      "            ]\n",
      "          }\n",
      "        ],\n",
      "        \"urls\": []\n",
      "      },\n",
      "      \"metadata\": {\n",
      "        \"iso_language_code\": \"en\",\n",
      "        \"result_type\": \"recent\"\n",
      "      },\n",
      "      \"source\": \"<a href=\\\"http://twitter.com/download/iphone\\\" rel=\\\"nofollow\\\">Twitter for iPhone</a>\",\n",
      "      \"in_reply_to_status_id\": null,\n",
      "      \"in_reply_to_status_id_str\": null,\n",
      "      \"in_reply_to_user_id\": null,\n",
      "      \"in_reply_to_user_id_str\": null,\n",
      "      \"in_reply_to_screen_name\": null,\n",
      "      \"user\": {\n",
      "        \"id\": 176731709,\n",
      "        \"id_str\": \"176731709\",\n",
      "        \"name\": \"Claire Robinson\",\n",
      "        \"screen_name\": \"Spinprofessor\",\n",
      "        \"location\": \"Wellington\",\n",
      "        \"description\": \"Professor, political commentator, Pro Vice-Chancellor College of Creative Arts, Massey University, member Stakeholder Advisory Group Callaghan Innovation\",\n",
      "        \"url\": null,\n",
      "        \"entities\": {\n",
      "          \"description\": {\n",
      "            \"urls\": []\n",
      "          }\n",
      "        },\n",
      "        \"protected\": false,\n",
      "        \"followers_count\": 1805,\n",
      "        \"friends_count\": 542,\n",
      "        \"listed_count\": 60,\n",
      "        \"created_at\": \"Tue Aug 10 08:32:12 +0000 2010\",\n",
      "        \"favourites_count\": 237,\n",
      "        \"utc_offset\": 46800,\n",
      "        \"time_zone\": \"Wellington\",\n",
      "        \"geo_enabled\": false,\n",
      "        \"verified\": false,\n",
      "        \"statuses_count\": 3840,\n",
      "        \"lang\": \"en\",\n",
      "        \"contributors_enabled\": false,\n",
      "        \"is_translator\": false,\n",
      "        \"is_translation_enabled\": false,\n",
      "        \"profile_background_color\": \"533109\",\n",
      "        \"profile_background_image_url\": \"http://pbs.twimg.com/profile_background_images/392939837/popdoodle3__bottom_.jpg\",\n",
      "        \"profile_background_image_url_https\": \"https://pbs.twimg.com/profile_background_images/392939837/popdoodle3__bottom_.jpg\",\n",
      "        \"profile_background_tile\": true,\n",
      "        \"profile_image_url\": \"http://pbs.twimg.com/profile_images/680525533881434112/LOnhD8iE_normal.jpg\",\n",
      "        \"profile_image_url_https\": \"https://pbs.twimg.com/profile_images/680525533881434112/LOnhD8iE_normal.jpg\",\n",
      "        \"profile_banner_url\": \"https://pbs.twimg.com/profile_banners/176731709/1459796303\",\n",
      "        \"profile_link_color\": \"E71142\",\n",
      "        \"profile_sidebar_border_color\": \"FAAB3D\",\n",
      "        \"profile_sidebar_fill_color\": \"DFEDF0\",\n",
      "        \"profile_text_color\": \"4D2170\",\n",
      "        \"profile_use_background_image\": true,\n",
      "        \"has_extended_profile\": false,\n",
      "        \"default_profile\": false,\n",
      "        \"default_profile_image\": false,\n",
      "        \"following\": false,\n",
      "        \"follow_request_sent\": false,\n",
      "        \"notifications\": false,\n",
      "        \"translator_type\": \"none\"\n",
      "      },\n",
      "      \"geo\": null,\n",
      "      \"coordinates\": null,\n",
      "      \"place\": null,\n",
      "      \"contributors\": null,\n",
      "      \"retweeted_status\": {\n",
      "        \"created_at\": \"Thu Mar 09 18:50:24 +0000 2017\",\n",
      "        \"id\": 839911262716780544,\n",
      "        \"id_str\": \"839911262716780544\",\n",
      "        \"text\": \"@MasseyUni Political Marketing Expert Professor Claire Robinson - \\\"@jacindaardern will attract younger voters\\\"\",\n",
      "        \"truncated\": false,\n",
      "        \"entities\": {\n",
      "          \"hashtags\": [],\n",
      "          \"symbols\": [],\n",
      "          \"user_mentions\": [\n",
      "            {\n",
      "              \"screen_name\": \"MasseyUni\",\n",
      "              \"name\": \"Massey University\",\n",
      "              \"id\": 27494710,\n",
      "              \"id_str\": \"27494710\",\n",
      "              \"indices\": [\n",
      "                0,\n",
      "                10\n",
      "              ]\n",
      "            },\n",
      "            {\n",
      "              \"screen_name\": \"jacindaardern\",\n",
      "              \"name\": \"Jacinda Ardern\",\n",
      "              \"id\": 22959763,\n",
      "              \"id_str\": \"22959763\",\n",
      "              \"indices\": [\n",
      "                67,\n",
      "                81\n",
      "              ]\n",
      "            }\n",
      "          ],\n",
      "          \"urls\": []\n",
      "        },\n",
      "        \"metadata\": {\n",
      "          \"iso_language_code\": \"en\",\n",
      "          \"result_type\": \"recent\"\n",
      "        },\n",
      "        \"source\": \"<a href=\\\"http://twitter.com\\\" rel=\\\"nofollow\\\">Twitter Web Client</a>\",\n",
      "        \"in_reply_to_status_id\": null,\n",
      "        \"in_reply_to_status_id_str\": null,\n",
      "        \"in_reply_to_user_id\": 27494710,\n",
      "        \"in_reply_to_user_id_str\": \"27494710\",\n",
      "        \"in_reply_to_screen_name\": \"MasseyUni\",\n",
      "        \"user\": {\n",
      "          \"id\": 2163648486,\n",
      "          \"id_str\": \"2163648486\",\n",
      "          \"name\": \"The AM Show\",\n",
      "          \"screen_name\": \"TheAMShowNZ\",\n",
      "          \"location\": \"New Zealand\",\n",
      "          \"description\": \"\",\n",
      "          \"url\": \"https://t.co/YWG0zcrDNU\",\n",
      "          \"entities\": {\n",
      "            \"url\": {\n",
      "              \"urls\": [\n",
      "                {\n",
      "                  \"url\": \"https://t.co/YWG0zcrDNU\",\n",
      "                  \"expanded_url\": \"http://TheAMShow.co.nz\",\n",
      "                  \"display_url\": \"TheAMShow.co.nz\",\n",
      "                  \"indices\": [\n",
      "                    0,\n",
      "                    23\n",
      "                  ]\n",
      "                }\n",
      "              ]\n",
      "            },\n",
      "            \"description\": {\n",
      "              \"urls\": []\n",
      "            }\n",
      "          },\n",
      "          \"protected\": false,\n",
      "          \"followers_count\": 15196,\n",
      "          \"friends_count\": 849,\n",
      "          \"listed_count\": 123,\n",
      "          \"created_at\": \"Tue Oct 29 22:31:23 +0000 2013\",\n",
      "          \"favourites_count\": 6955,\n",
      "          \"utc_offset\": 46800,\n",
      "          \"time_zone\": \"Wellington\",\n",
      "          \"geo_enabled\": false,\n",
      "          \"verified\": false,\n",
      "          \"statuses_count\": 15668,\n",
      "          \"lang\": \"en\",\n",
      "          \"contributors_enabled\": false,\n",
      "          \"is_translator\": false,\n",
      "          \"is_translation_enabled\": false,\n",
      "          \"profile_background_color\": \"FFFFFF\",\n",
      "          \"profile_background_image_url\": \"http://pbs.twimg.com/profile_background_images/378800000171139274/DpnXCQ0A.jpeg\",\n",
      "          \"profile_background_image_url_https\": \"https://pbs.twimg.com/profile_background_images/378800000171139274/DpnXCQ0A.jpeg\",\n",
      "          \"profile_background_tile\": true,\n",
      "          \"profile_image_url\": \"http://pbs.twimg.com/profile_images/812124490700181504/5n2RwU7m_normal.jpg\",\n",
      "          \"profile_image_url_https\": \"https://pbs.twimg.com/profile_images/812124490700181504/5n2RwU7m_normal.jpg\",\n",
      "          \"profile_banner_url\": \"https://pbs.twimg.com/profile_banners/2163648486/1486592497\",\n",
      "          \"profile_link_color\": \"000000\",\n",
      "          \"profile_sidebar_border_color\": \"FFFFFF\",\n",
      "          \"profile_sidebar_fill_color\": \"DDEEF6\",\n",
      "          \"profile_text_color\": \"333333\",\n",
      "          \"profile_use_background_image\": false,\n",
      "          \"has_extended_profile\": false,\n",
      "          \"default_profile\": false,\n",
      "          \"default_profile_image\": false,\n",
      "          \"following\": false,\n",
      "          \"follow_request_sent\": false,\n",
      "          \"notifications\": false,\n",
      "          \"translator_type\": \"regular\"\n",
      "        },\n",
      "        \"geo\": null,\n",
      "        \"coordinates\": null,\n",
      "        \"place\": null,\n",
      "        \"contributors\": null,\n",
      "        \"is_quote_status\": false,\n",
      "        \"retweet_count\": 1,\n",
      "        \"favorite_count\": 0,\n",
      "        \"favorited\": false,\n",
      "        \"retweeted\": false,\n",
      "        \"lang\": \"en\"\n",
      "      },\n",
      "      \"is_quote_status\": false,\n",
      "      \"retweet_count\": 1,\n",
      "      \"favorite_count\": 0,\n",
      "      \"favorited\": false,\n",
      "      \"retweeted\": false,\n",
      "      \"lang\": \"en\"\n",
      "    },\n",
      "    {\n",
      "      \"created_at\": \"Thu Mar 09 18:53:48 +0000 2017\",\n",
      "      \"id\": 839912118048579584,\n",
      "      \"id_str\": \"839912118048579584\",\n",
      "      \"text\": \"@TheAMShowNZ @MasseyUni If trump can win USA Presidency, anything is possible #changethegovt\",\n",
      "      \"truncated\": false,\n",
      "      \"entities\": {\n",
      "        \"hashtags\": [\n",
      "          {\n",
      "            \"text\": \"changethegovt\",\n",
      "            \"indices\": [\n",
      "              78,\n",
      "              92\n",
      "            ]\n",
      "          }\n",
      "        ],\n",
      "        \"symbols\": [],\n",
      "        \"user_mentions\": [\n",
      "          {\n",
      "            \"screen_name\": \"TheAMShowNZ\",\n",
      "            \"name\": \"The AM Show\",\n",
      "            \"id\": 2163648486,\n",
      "            \"id_str\": \"2163648486\",\n",
      "            \"indices\": [\n",
      "              0,\n",
      "              12\n",
      "            ]\n",
      "          },\n",
      "          {\n",
      "            \"screen_name\": \"MasseyUni\",\n",
      "            \"name\": \"Massey University\",\n",
      "            \"id\": 27494710,\n",
      "            \"id_str\": \"27494710\",\n",
      "            \"indices\": [\n",
      "              13,\n",
      "              23\n",
      "            ]\n",
      "          }\n",
      "        ],\n",
      "        \"urls\": []\n",
      "      },\n",
      "      \"metadata\": {\n",
      "        \"iso_language_code\": \"en\",\n",
      "        \"result_type\": \"recent\"\n",
      "      },\n",
      "      \"source\": \"<a href=\\\"http://twitter.com/download/android\\\" rel=\\\"nofollow\\\">Twitter for Android</a>\",\n",
      "      \"in_reply_to_status_id\": 839910102597435392,\n",
      "      \"in_reply_to_status_id_str\": \"839910102597435392\",\n",
      "      \"in_reply_to_user_id\": 2163648486,\n",
      "      \"in_reply_to_user_id_str\": \"2163648486\",\n",
      "      \"in_reply_to_screen_name\": \"TheAMShowNZ\",\n",
      "      \"user\": {\n",
      "        \"id\": 32795996,\n",
      "        \"id_str\": \"32795996\",\n",
      "        \"name\": \"Tim Richardson\",\n",
      "        \"screen_name\": \"opdamistic\",\n",
      "        \"location\": \"New Zealand\",\n",
      "        \"description\": \"ex cyf foster child due to an abusive step father, pokerstars micro millions finalist 2013. Travelled Australia and NZ a lot.\",\n",
      "        \"url\": null,\n",
      "        \"entities\": {\n",
      "          \"description\": {\n",
      "            \"urls\": []\n",
      "          }\n",
      "        },\n",
      "        \"protected\": false,\n",
      "        \"followers_count\": 37,\n",
      "        \"friends_count\": 61,\n",
      "        \"listed_count\": 7,\n",
      "        \"created_at\": \"Sat Apr 18 05:01:13 +0000 2009\",\n",
      "        \"favourites_count\": 1435,\n",
      "        \"utc_offset\": 46800,\n",
      "        \"time_zone\": \"Auckland\",\n",
      "        \"geo_enabled\": false,\n",
      "        \"verified\": false,\n",
      "        \"statuses_count\": 1555,\n",
      "        \"lang\": \"en\",\n",
      "        \"contributors_enabled\": false,\n",
      "        \"is_translator\": false,\n",
      "        \"is_translation_enabled\": false,\n",
      "        \"profile_background_color\": \"C0DEED\",\n",
      "        \"profile_background_image_url\": \"http://abs.twimg.com/images/themes/theme1/bg.png\",\n",
      "        \"profile_background_image_url_https\": \"https://abs.twimg.com/images/themes/theme1/bg.png\",\n",
      "        \"profile_background_tile\": false,\n",
      "        \"profile_image_url\": \"http://pbs.twimg.com/profile_images/824148237116383232/ucnbNsEM_normal.jpg\",\n",
      "        \"profile_image_url_https\": \"https://pbs.twimg.com/profile_images/824148237116383232/ucnbNsEM_normal.jpg\",\n",
      "        \"profile_link_color\": \"1DA1F2\",\n",
      "        \"profile_sidebar_border_color\": \"C0DEED\",\n",
      "        \"profile_sidebar_fill_color\": \"DDEEF6\",\n",
      "        \"profile_text_color\": \"333333\",\n",
      "        \"profile_use_background_image\": true,\n",
      "        \"has_extended_profile\": false,\n",
      "        \"default_profile\": true,\n",
      "        \"default_profile_image\": false,\n",
      "        \"following\": false,\n",
      "        \"follow_request_sent\": false,\n",
      "        \"notifications\": false,\n",
      "        \"translator_type\": \"none\"\n",
      "      },\n",
      "      \"geo\": null,\n",
      "      \"coordinates\": null,\n",
      "      \"place\": null,\n",
      "      \"contributors\": null,\n",
      "      \"is_quote_status\": false,\n",
      "      \"retweet_count\": 0,\n",
      "      \"favorite_count\": 0,\n",
      "      \"favorited\": false,\n",
      "      \"retweeted\": false,\n",
      "      \"lang\": \"en\"\n",
      "    },\n",
      "    {\n",
      "      \"created_at\": \"Thu Mar 09 18:52:02 +0000 2017\",\n",
      "      \"id\": 839911671829262336,\n",
      "      \"id_str\": \"839911671829262336\",\n",
      "      \"text\": \"@MasseyUni Political Marketing Expert Professor Claire Robinson says a co leadership wouldn't work for @nzlabour - \\\"it's problematic\\\"\",\n",
      "      \"truncated\": false,\n",
      "      \"entities\": {\n",
      "        \"hashtags\": [],\n",
      "        \"symbols\": [],\n",
      "        \"user_mentions\": [\n",
      "          {\n",
      "            \"screen_name\": \"MasseyUni\",\n",
      "            \"name\": \"Massey University\",\n",
      "            \"id\": 27494710,\n",
      "            \"id_str\": \"27494710\",\n",
      "            \"indices\": [\n",
      "              0,\n",
      "              10\n",
      "            ]\n",
      "          },\n",
      "          {\n",
      "            \"screen_name\": \"nzlabour\",\n",
      "            \"name\": \"New Zealand Labour\",\n",
      "            \"id\": 15466126,\n",
      "            \"id_str\": \"15466126\",\n",
      "            \"indices\": [\n",
      "              103,\n",
      "              112\n",
      "            ]\n",
      "          }\n",
      "        ],\n",
      "        \"urls\": []\n",
      "      },\n",
      "      \"metadata\": {\n",
      "        \"iso_language_code\": \"en\",\n",
      "        \"result_type\": \"recent\"\n",
      "      },\n",
      "      \"source\": \"<a href=\\\"http://twitter.com\\\" rel=\\\"nofollow\\\">Twitter Web Client</a>\",\n",
      "      \"in_reply_to_status_id\": null,\n",
      "      \"in_reply_to_status_id_str\": null,\n",
      "      \"in_reply_to_user_id\": 27494710,\n",
      "      \"in_reply_to_user_id_str\": \"27494710\",\n",
      "      \"in_reply_to_screen_name\": \"MasseyUni\",\n",
      "      \"user\": {\n",
      "        \"id\": 2163648486,\n",
      "        \"id_str\": \"2163648486\",\n",
      "        \"name\": \"The AM Show\",\n",
      "        \"screen_name\": \"TheAMShowNZ\",\n",
      "        \"location\": \"New Zealand\",\n",
      "        \"description\": \"\",\n",
      "        \"url\": \"https://t.co/YWG0zcrDNU\",\n",
      "        \"entities\": {\n",
      "          \"url\": {\n",
      "            \"urls\": [\n",
      "              {\n",
      "                \"url\": \"https://t.co/YWG0zcrDNU\",\n",
      "                \"expanded_url\": \"http://TheAMShow.co.nz\",\n",
      "                \"display_url\": \"TheAMShow.co.nz\",\n",
      "                \"indices\": [\n",
      "                  0,\n",
      "                  23\n",
      "                ]\n",
      "              }\n",
      "            ]\n",
      "          },\n",
      "          \"description\": {\n",
      "            \"urls\": []\n",
      "          }\n",
      "        },\n",
      "        \"protected\": false,\n",
      "        \"followers_count\": 15196,\n",
      "        \"friends_count\": 849,\n",
      "        \"listed_count\": 123,\n",
      "        \"created_at\": \"Tue Oct 29 22:31:23 +0000 2013\",\n",
      "        \"favourites_count\": 6955,\n",
      "        \"utc_offset\": 46800,\n",
      "        \"time_zone\": \"Wellington\",\n",
      "        \"geo_enabled\": false,\n",
      "        \"verified\": false,\n",
      "        \"statuses_count\": 15668,\n",
      "        \"lang\": \"en\",\n",
      "        \"contributors_enabled\": false,\n",
      "        \"is_translator\": false,\n",
      "        \"is_translation_enabled\": false,\n",
      "        \"profile_background_color\": \"FFFFFF\",\n",
      "        \"profile_background_image_url\": \"http://pbs.twimg.com/profile_background_images/378800000171139274/DpnXCQ0A.jpeg\",\n",
      "        \"profile_background_image_url_https\": \"https://pbs.twimg.com/profile_background_images/378800000171139274/DpnXCQ0A.jpeg\",\n",
      "        \"profile_background_tile\": true,\n",
      "        \"profile_image_url\": \"http://pbs.twimg.com/profile_images/812124490700181504/5n2RwU7m_normal.jpg\",\n",
      "        \"profile_image_url_https\": \"https://pbs.twimg.com/profile_images/812124490700181504/5n2RwU7m_normal.jpg\",\n",
      "        \"profile_banner_url\": \"https://pbs.twimg.com/profile_banners/2163648486/1486592497\",\n",
      "        \"profile_link_color\": \"000000\",\n",
      "        \"profile_sidebar_border_color\": \"FFFFFF\",\n",
      "        \"profile_sidebar_fill_color\": \"DDEEF6\",\n",
      "        \"profile_text_color\": \"333333\",\n",
      "        \"profile_use_background_image\": false,\n",
      "        \"has_extended_profile\": false,\n",
      "        \"default_profile\": false,\n",
      "        \"default_profile_image\": false,\n",
      "        \"following\": false,\n",
      "        \"follow_request_sent\": false,\n",
      "        \"notifications\": false,\n",
      "        \"translator_type\": \"regular\"\n",
      "      },\n",
      "      \"geo\": null,\n",
      "      \"coordinates\": null,\n",
      "      \"place\": null,\n",
      "      \"contributors\": null,\n",
      "      \"is_quote_status\": false,\n",
      "      \"retweet_count\": 1,\n",
      "      \"favorite_count\": 0,\n",
      "      \"favorited\": false,\n",
      "      \"retweeted\": false,\n",
      "      \"lang\": \"en\"\n",
      "    }\n",
      "  ],\n",
      "  \"search_metadata\": {\n",
      "    \"completed_in\": 0.023,\n",
      "    \"max_id\": 839922137536172032,\n",
      "    \"max_id_str\": \"839922137536172032\",\n",
      "    \"next_results\": \"?max_id=839911671829262335&q=%40MasseyUni&count=5&include_entities=1\",\n",
      "    \"query\": \"%40MasseyUni\",\n",
      "    \"refresh_url\": \"?since_id=839922137536172032&q=%40MasseyUni&include_entities=1\",\n",
      "    \"count\": 5,\n",
      "    \"since_id\": 0,\n",
      "    \"since_id_str\": \"0\"\n",
      "  }\n",
      "}\n"
     ]
    }
   ],
   "source": [
    "from json import dumps as dump\n",
    "\n",
    "print(dump(results, indent=2))"
   ]
  },
  {
   "cell_type": "markdown",
   "metadata": {},
   "source": [
    "That is just 5 tweets!\n",
    "\n",
    "The data is returned as a dictionary at the topmost level. The first item is **statuses** which are the actual tweets. The second is **search_metadata**."
   ]
  },
  {
   "cell_type": "code",
   "execution_count": 110,
   "metadata": {
    "collapsed": false
   },
   "outputs": [
    {
     "name": "stdout",
     "output_type": "stream",
     "text": [
      "dict_keys(['statuses', 'search_metadata'])\n"
     ]
    }
   ],
   "source": [
    "print(results.keys())"
   ]
  },
  {
   "cell_type": "markdown",
   "metadata": {},
   "source": [
    "Let's take a look at what is inside the first tweet (aka statuses[0])"
   ]
  },
  {
   "cell_type": "code",
   "execution_count": 111,
   "metadata": {
    "collapsed": false
   },
   "outputs": [
    {
     "name": "stdout",
     "output_type": "stream",
     "text": [
      "dict_keys(['created_at', 'id', 'id_str', 'text', 'truncated', 'entities', 'metadata', 'source', 'in_reply_to_status_id', 'in_reply_to_status_id_str', 'in_reply_to_user_id', 'in_reply_to_user_id_str', 'in_reply_to_screen_name', 'user', 'geo', 'coordinates', 'place', 'contributors', 'retweeted_status', 'is_quote_status', 'retweet_count', 'favorite_count', 'favorited', 'retweeted', 'lang'])\n"
     ]
    }
   ],
   "source": [
    "print(results[\"statuses\"][0].keys())"
   ]
  },
  {
   "cell_type": "markdown",
   "metadata": {},
   "source": [
    "**\"text\"** is the actual text of the tweet. Let's print them:"
   ]
  },
  {
   "cell_type": "code",
   "execution_count": 112,
   "metadata": {
    "collapsed": false
   },
   "outputs": [
    {
     "name": "stdout",
     "output_type": "stream",
     "text": [
      "RT @TheAMShowNZ: @MasseyUni Political Marketing Expert Professor Claire Robinson says a co leadership wouldn't work for @nzlabour - \"it's p…\n",
      "RT @TheAMShowNZ: @MasseyUni Political Marketing Expert Professor Claire Robinson says the Adern brand for @nzlabour is good - \"she reflects…\n",
      "RT @TheAMShowNZ: @MasseyUni Political Marketing Expert Professor Claire Robinson - \"@jacindaardern will attract younger voters\"\n",
      "@TheAMShowNZ @MasseyUni If trump can win USA Presidency, anything is possible #changethegovt\n",
      "@MasseyUni Political Marketing Expert Professor Claire Robinson says a co leadership wouldn't work for @nzlabour - \"it's problematic\"\n"
     ]
    }
   ],
   "source": [
    "for tweet in results[\"statuses\"]:\n",
    "    print(tweet[\"text\"])"
   ]
  },
  {
   "cell_type": "markdown",
   "metadata": {},
   "source": [
    "Let's see what is inside a single tweet.\n",
    "\n",
    "**\"entities\"** are things like hashtags, users and urls mentioned in a tweet. Let's check out the entities for the first tweet: "
   ]
  },
  {
   "cell_type": "code",
   "execution_count": 113,
   "metadata": {
    "collapsed": false,
    "scrolled": true
   },
   "outputs": [
    {
     "name": "stdout",
     "output_type": "stream",
     "text": [
      "{\n",
      " \"hashtags\": [],\n",
      " \"symbols\": [],\n",
      " \"user_mentions\": [\n",
      "  {\n",
      "   \"screen_name\": \"TheAMShowNZ\",\n",
      "   \"name\": \"The AM Show\",\n",
      "   \"id\": 2163648486,\n",
      "   \"id_str\": \"2163648486\",\n",
      "   \"indices\": [\n",
      "    3,\n",
      "    15\n",
      "   ]\n",
      "  },\n",
      "  {\n",
      "   \"screen_name\": \"MasseyUni\",\n",
      "   \"name\": \"Massey University\",\n",
      "   \"id\": 27494710,\n",
      "   \"id_str\": \"27494710\",\n",
      "   \"indices\": [\n",
      "    17,\n",
      "    27\n",
      "   ]\n",
      "  },\n",
      "  {\n",
      "   \"screen_name\": \"nzlabour\",\n",
      "   \"name\": \"New Zealand Labour\",\n",
      "   \"id\": 15466126,\n",
      "   \"id_str\": \"15466126\",\n",
      "   \"indices\": [\n",
      "    120,\n",
      "    129\n",
      "   ]\n",
      "  }\n",
      " ],\n",
      " \"urls\": []\n",
      "}\n"
     ]
    }
   ],
   "source": [
    "t1 = results[\"statuses\"][0] # t1 = tweet 1, saves writing results[\"statuses\"][0] all the time\n",
    "\n",
    "print(dump(t1[\"entities\"], indent=1))"
   ]
  },
  {
   "cell_type": "markdown",
   "metadata": {},
   "source": [
    "**\"user\"** contains infromation about the original tweeter:"
   ]
  },
  {
   "cell_type": "code",
   "execution_count": 114,
   "metadata": {
    "collapsed": false,
    "scrolled": true
   },
   "outputs": [
    {
     "name": "stdout",
     "output_type": "stream",
     "text": [
      "{\n",
      "  \"id\": 176731709,\n",
      "  \"id_str\": \"176731709\",\n",
      "  \"name\": \"Claire Robinson\",\n",
      "  \"screen_name\": \"Spinprofessor\",\n",
      "  \"location\": \"Wellington\",\n",
      "  \"description\": \"Professor, political commentator, Pro Vice-Chancellor College of Creative Arts, Massey University, member Stakeholder Advisory Group Callaghan Innovation\",\n",
      "  \"url\": null,\n",
      "  \"entities\": {\n",
      "    \"description\": {\n",
      "      \"urls\": []\n",
      "    }\n",
      "  },\n",
      "  \"protected\": false,\n",
      "  \"followers_count\": 1805,\n",
      "  \"friends_count\": 542,\n",
      "  \"listed_count\": 60,\n",
      "  \"created_at\": \"Tue Aug 10 08:32:12 +0000 2010\",\n",
      "  \"favourites_count\": 237,\n",
      "  \"utc_offset\": 46800,\n",
      "  \"time_zone\": \"Wellington\",\n",
      "  \"geo_enabled\": false,\n",
      "  \"verified\": false,\n",
      "  \"statuses_count\": 3840,\n",
      "  \"lang\": \"en\",\n",
      "  \"contributors_enabled\": false,\n",
      "  \"is_translator\": false,\n",
      "  \"is_translation_enabled\": false,\n",
      "  \"profile_background_color\": \"533109\",\n",
      "  \"profile_background_image_url\": \"http://pbs.twimg.com/profile_background_images/392939837/popdoodle3__bottom_.jpg\",\n",
      "  \"profile_background_image_url_https\": \"https://pbs.twimg.com/profile_background_images/392939837/popdoodle3__bottom_.jpg\",\n",
      "  \"profile_background_tile\": true,\n",
      "  \"profile_image_url\": \"http://pbs.twimg.com/profile_images/680525533881434112/LOnhD8iE_normal.jpg\",\n",
      "  \"profile_image_url_https\": \"https://pbs.twimg.com/profile_images/680525533881434112/LOnhD8iE_normal.jpg\",\n",
      "  \"profile_banner_url\": \"https://pbs.twimg.com/profile_banners/176731709/1459796303\",\n",
      "  \"profile_link_color\": \"E71142\",\n",
      "  \"profile_sidebar_border_color\": \"FAAB3D\",\n",
      "  \"profile_sidebar_fill_color\": \"DFEDF0\",\n",
      "  \"profile_text_color\": \"4D2170\",\n",
      "  \"profile_use_background_image\": true,\n",
      "  \"has_extended_profile\": false,\n",
      "  \"default_profile\": false,\n",
      "  \"default_profile_image\": false,\n",
      "  \"following\": false,\n",
      "  \"follow_request_sent\": false,\n",
      "  \"notifications\": false,\n",
      "  \"translator_type\": \"none\"\n",
      "}\n"
     ]
    }
   ],
   "source": [
    "print(dump(t1[\"user\"], indent=2))"
   ]
  },
  {
   "cell_type": "markdown",
   "metadata": {},
   "source": [
    "Find out what the original tweeter has been tweeting about:"
   ]
  },
  {
   "cell_type": "code",
   "execution_count": 125,
   "metadata": {
    "collapsed": false,
    "scrolled": true
   },
   "outputs": [
    {
     "name": "stdout",
     "output_type": "stream",
     "text": [
      "Original Tweeter:  Spinprofessor\n",
      "RT @TheAMShowNZ: Professor Claire Robinson says @Labournz won't win this year's election but will hands down win the next one in 2020.\n",
      "RT @TheAMShowNZ: @MasseyUni Political Marketing Expert Professor Claire Robinson says a co leadership wouldn't work for @nzlabour - \"it's p…\n",
      "RT @TheAMShowNZ: @MasseyUni Political Marketing Expert Professor Claire Robinson says the Adern brand for @nzlabour is good - \"she reflects…\n",
      "RT @TheAMShowNZ: @MasseyUni Political Marketing Expert Professor Claire Robinson - \"@jacindaardern will attract younger voters\"\n",
      "@fractaldesign @cocamassey @Spinprofessor o don't worry about that… i checked as soon as i saw it!\n",
      "@cocamassey @Spinprofessor @tristamsparks zoom and enhance on that email 😬🔥\n",
      "RT @cocamassey: Stage set for Tim Brennan's inaugural Professorial - From Nomad to Monad @Spinprofessor @tristamsparks https://t.co/Te3Igww…\n",
      "Stage set for Tim Brennan's inaugural Professorial - From Nomad to Monad @Spinprofessor @tristamsparks https://t.co/Te3IgwwX93\n",
      "RT @ProfJanThomas: Great to see the progress within @cocamassey School Music &amp; Creative Media building - great facility https://t.co/c8oUFS…\n",
      "RT @JoeNBC: MEMO TO 'THE WEEK': Mika wasn't crying. Mika was pissed off. Do you just attach \"tearfully\" to descriptions of women who lower…\n"
     ]
    }
   ],
   "source": [
    "original_tweeter = t1[\"user\"][\"screen_name\"]\n",
    "print(\"Original Tweeter: \", original_tweeter)\n",
    "user_tweet_results = twitter_api.search.tweets(q=original_tweeter, count=10)\n",
    "user_tweets = user_tweet_results[\"statuses\"]\n",
    "for tweet in user_tweets:\n",
    "    print(tweet[\"text\"])"
   ]
  },
  {
   "cell_type": "markdown",
   "metadata": {},
   "source": [
    "How many users is @MasseyUni following (i.e. @MasseyUni's friends)?"
   ]
  },
  {
   "cell_type": "code",
   "execution_count": 116,
   "metadata": {
    "collapsed": false
   },
   "outputs": [
    {
     "name": "stdout",
     "output_type": "stream",
     "text": [
      "3060\n"
     ]
    }
   ],
   "source": [
    "print(massey_info[\"friends_count\"])"
   ]
  },
  {
   "cell_type": "markdown",
   "metadata": {},
   "source": [
    "Show the latest 20 users @MasseyUni follows:"
   ]
  },
  {
   "cell_type": "code",
   "execution_count": 117,
   "metadata": {
    "collapsed": false,
    "scrolled": false
   },
   "outputs": [
    {
     "name": "stdout",
     "output_type": "stream",
     "text": [
      "offgrid17\n",
      "AwhinaEnglish\n",
      "TracieMafileo\n",
      "socialpolicy_py\n",
      "MasseyUSocialWk\n",
      "rthazou\n",
      "RNDrive\n",
      "HelReynolds\n",
      "NewsroomNZ\n",
      "ProfJanThomas\n",
      "wcwtp\n",
      "komikanya\n",
      "BA_Yildirim\n",
      "RT_Erdogan\n",
      "mesutcemil\n",
      "glsnayldz\n",
      "sebomubu\n",
      "BritInWgtn\n",
      "DefsecNZ\n",
      "profjanemills\n"
     ]
    }
   ],
   "source": [
    "friends = twitter_api.friends.list(screen_name=\"MasseyUni\", count = 20)\n",
    "for friend in friends[\"users\"]:\n",
    "    print(friend[\"screen_name\"])"
   ]
  },
  {
   "cell_type": "markdown",
   "metadata": {},
   "source": [
    "Show the latest 20 followers of @MasseyUni:"
   ]
  },
  {
   "cell_type": "code",
   "execution_count": 118,
   "metadata": {
    "collapsed": false,
    "scrolled": true
   },
   "outputs": [
    {
     "name": "stdout",
     "output_type": "stream",
     "text": [
      "LNNR07\n",
      "norma_joanne\n",
      "wanieaimi\n",
      "herdsa_conf\n",
      "richardram\n",
      "ujez689\n",
      "dirkli1992\n",
      "kiravdheijden\n",
      "SeyonceS\n",
      "mrloudon2\n",
      "DeallaSmith\n",
      "Phiric_NZ\n",
      "thewavenz\n",
      "TOlaaiga\n",
      "S_A_PARTNERS\n",
      "amardeepmoga\n",
      "ashleyruthxx\n",
      "NZGovEcon\n",
      "josojm\n",
      "JasonLRobinson\n"
     ]
    }
   ],
   "source": [
    "followers = twitter_api.followers.list(screen_name=\"MasseyUni\", count = 20)\n",
    "for follower in followers[\"users\"]:\n",
    "    print(follower[\"screen_name\"])"
   ]
  },
  {
   "cell_type": "markdown",
   "metadata": {},
   "source": [
    "**Note:** Twitter places limits on how many friends and followers can be downloaded at once. If obtaining full user data, 200 can be returned in one request (no more than 15 requests in 15 minutes is allowed). If friends/followers are obtained by ID number only, Twitter allows 5000 user IDs to be returned in one request.\n",
    "\n",
    "---\n",
    "\n",
    "How about what is trending in NZ? First we need to find the Yahoo! WOE (Where On Earth) code for NZ. There is a simple lookup page at [http://woeid.rosselliot.co.nz/](http://woeid.rosselliot.co.nz/) \n",
    "\n",
    "It turns out NZ is 23424916"
   ]
  },
  {
   "cell_type": "code",
   "execution_count": 119,
   "metadata": {
    "collapsed": false
   },
   "outputs": [
    {
     "name": "stdout",
     "output_type": "stream",
     "text": [
      "dict_keys(['trends', 'as_of', 'created_at', 'locations'])\n"
     ]
    }
   ],
   "source": [
    "WOE_NZ = 23424916\n",
    "nz_trends = twitter_api.trends.place(_id=WOE_NZ) \n",
    "# the underscore on _id is needed because of a quirk in the python twitter API (\"id\" is reserved for another purpose)\n",
    "# It turns out trends is a list of dictionaries with only one element. Not much of a list really :)\n",
    "print(nz_trends[0].keys())"
   ]
  },
  {
   "cell_type": "markdown",
   "metadata": {},
   "source": [
    "The interesting stuff is in the 'trends' key. Let's take a look at the first 10:"
   ]
  },
  {
   "cell_type": "code",
   "execution_count": 120,
   "metadata": {
    "collapsed": false,
    "scrolled": true
   },
   "outputs": [
    {
     "name": "stdout",
     "output_type": "stream",
     "text": [
      "{\n",
      "  \"name\": \"#NRLRoostersBulldogs\",\n",
      "  \"url\": \"http://twitter.com/search?q=%23NRLRoostersBulldogs\",\n",
      "  \"promoted_content\": null,\n",
      "  \"query\": \"%23NRLRoostersBulldogs\",\n",
      "  \"tweet_volume\": null\n",
      "}\n",
      "{\n",
      "  \"name\": \"#internationalwomensday\",\n",
      "  \"url\": \"http://twitter.com/search?q=%23internationalwomensday\",\n",
      "  \"promoted_content\": null,\n",
      "  \"query\": \"%23internationalwomensday\",\n",
      "  \"tweet_volume\": 1726818\n",
      "}\n",
      "{\n",
      "  \"name\": \"#IWD2017\",\n",
      "  \"url\": \"http://twitter.com/search?q=%23IWD2017\",\n",
      "  \"promoted_content\": null,\n",
      "  \"query\": \"%23IWD2017\",\n",
      "  \"tweet_volume\": 272926\n",
      "}\n",
      "{\n",
      "  \"name\": \"#nzjscon\",\n",
      "  \"url\": \"http://twitter.com/search?q=%23nzjscon\",\n",
      "  \"promoted_content\": null,\n",
      "  \"query\": \"%23nzjscon\",\n",
      "  \"tweet_volume\": null\n",
      "}\n",
      "{\n",
      "  \"name\": \"#edchatnz\",\n",
      "  \"url\": \"http://twitter.com/search?q=%23edchatnz\",\n",
      "  \"promoted_content\": null,\n",
      "  \"query\": \"%23edchatnz\",\n",
      "  \"tweet_volume\": null\n",
      "}\n",
      "{\n",
      "  \"name\": \"Ross Taylor\",\n",
      "  \"url\": \"http://twitter.com/search?q=%22Ross+Taylor%22\",\n",
      "  \"promoted_content\": null,\n",
      "  \"query\": \"%22Ross+Taylor%22\",\n",
      "  \"tweet_volume\": null\n",
      "}\n",
      "{\n",
      "  \"name\": \"WikiLeaks\",\n",
      "  \"url\": \"http://twitter.com/search?q=WikiLeaks\",\n",
      "  \"promoted_content\": null,\n",
      "  \"query\": \"WikiLeaks\",\n",
      "  \"tweet_volume\": 373049\n",
      "}\n",
      "{\n",
      "  \"name\": \"Ed Sheeran\",\n",
      "  \"url\": \"http://twitter.com/search?q=%22Ed+Sheeran%22\",\n",
      "  \"promoted_content\": null,\n",
      "  \"query\": \"%22Ed+Sheeran%22\",\n",
      "  \"tweet_volume\": 81368\n",
      "}\n",
      "{\n",
      "  \"name\": \"Parliament\",\n",
      "  \"url\": \"http://twitter.com/search?q=Parliament\",\n",
      "  \"promoted_content\": null,\n",
      "  \"query\": \"Parliament\",\n",
      "  \"tweet_volume\": 44121\n",
      "}\n",
      "{\n",
      "  \"name\": \"Hamilton\",\n",
      "  \"url\": \"http://twitter.com/search?q=Hamilton\",\n",
      "  \"promoted_content\": null,\n",
      "  \"query\": \"Hamilton\",\n",
      "  \"tweet_volume\": 33637\n",
      "}\n"
     ]
    }
   ],
   "source": [
    "for trend in nz_trends[0][\"trends\"][0:10]:\n",
    "    print(dump(trend, indent=2))"
   ]
  },
  {
   "cell_type": "markdown",
   "metadata": {
    "collapsed": true
   },
   "source": [
    "Now I will try something more complicated. Let's compare the **lexical diversity** of Massey tweets with Victoria tweets. Lexical diversity will be crudely defined as **the number of unique words divided by the total number of words** in a list of tweets, N = 100 say.\n",
    "\n",
    "First get 100 tweets from Massey and Victoria:"
   ]
  },
  {
   "cell_type": "code",
   "execution_count": 126,
   "metadata": {
    "collapsed": true
   },
   "outputs": [],
   "source": [
    "count = 100\n",
    "\n",
    "q = \"@MasseyUni\"\n",
    "massey_tweets = twitter_api.search.tweets(q=q, count=count)[\"statuses\"]\n",
    "\n",
    "q = \"@VicUniWgtn\"\n",
    "victoria_tweets = twitter_api.search.tweets(q=q, count=count)[\"statuses\"]"
   ]
  },
  {
   "cell_type": "markdown",
   "metadata": {},
   "source": [
    "Now extract the text of each tweet for both Massey and Victoria (using a Python *list comprehension*):"
   ]
  },
  {
   "cell_type": "code",
   "execution_count": null,
   "metadata": {
    "collapsed": true
   },
   "outputs": [],
   "source": [
    "massey_texts = [tweet[\"text\"] for tweet in massey_tweets]\n",
    "victoria_texts = [tweet[\"text\"] for tweet in victoria_tweets]"
   ]
  },
  {
   "cell_type": "markdown",
   "metadata": {},
   "source": [
    "Now we need to break down each text into individual words add the words to a list. I will exclude 'words' that include punctuation (like hastags, screen names etc.) by means of Pythons isalpha() method. We need to iterate over each text and then over each word in the text:"
   ]
  },
  {
   "cell_type": "code",
   "execution_count": 143,
   "metadata": {
    "collapsed": false,
    "scrolled": true
   },
   "outputs": [
    {
     "name": "stdout",
     "output_type": "stream",
     "text": [
      "Massey words:\n",
      "\n",
      " ['RT', 'RT', 'RT', 'Political', 'Marketing', 'Expert', 'Professor', 'Claire', 'Robinson', 'will', 'attract', 'younger', 'RT', 'Political', 'Marketing', 'Expert', 'Professor', 'Claire', 'Robinson', 'says', 'the', 'Adern', 'brand', 'for', 'is', 'good', 'RT', 'Political', 'Marketing', 'Expert', 'Professor', 'Claire', 'Robinson', 'says', 'a', 'co', 'leadership', 'work', 'for', 'Massey', 'University', 'celebrates', 'world', 'rankings', 'RT', 'Political', 'Marketing', 'Expert', 'Professor', 'Claire']\n",
      "\n",
      "Victoria words:\n",
      "\n",
      " ['Congratulations', 'to', 'being', 'awarded', 'Centres', 'of', 'Asia', 'Pacific', 'and', 'to', 'host', 'new', 'Centres', 'of', 'Excellence', 'HT', 'Goooood', 'morning', 'Another', 'excited', 'bunch', 'of', 'newbie', 'computer', 'scientists', 'are', 'about', 'to', 'hear', 'RT', 'Next', 'week', 'we', 'are', 'celebrating', 'indelible', 'poets', 'on', 'compostable', 'launching', 'six', 'coffee', 'cups', 'with', 'some', 'of', 'most', 'really', 'help', 'lift']\n"
     ]
    }
   ],
   "source": [
    "massey_words = [word \n",
    "                    for text in massey_texts\n",
    "                        for word in text.split() if word.isalpha()]\n",
    "victoria_words = [word \n",
    "                    for text in victoria_texts\n",
    "                        for word in text.split() if word.isalpha()]\n",
    "\n",
    "print(\"50 Massey words:\\n\\n\", massey_words[0:50])\n",
    "print(\"\\n50 Victoria words:\\n\\n\", victoria_words[0:50])"
   ]
  },
  {
   "cell_type": "markdown",
   "metadata": {},
   "source": [
    "Notice that the words are not unique. We have just split up all the texts and pulled out strings of alpha characters. It's easy to convert a list of words into a *set* of unique words by using Pythons set() method:"
   ]
  },
  {
   "cell_type": "code",
   "execution_count": 160,
   "metadata": {
    "collapsed": true
   },
   "outputs": [],
   "source": [
    "unique_massey_words = set(massey_words)\n",
    "unique_victoria_words = set(victoria_words)"
   ]
  },
  {
   "cell_type": "markdown",
   "metadata": {},
   "source": [
    "Python makes it that easy! Now we have everything we need to compare the lexical diversity."
   ]
  },
  {
   "cell_type": "code",
   "execution_count": 161,
   "metadata": {
    "collapsed": false
   },
   "outputs": [
    {
     "name": "stdout",
     "output_type": "stream",
     "text": [
      "Massey: 385 unique words out of 1046 = 0.36806883365200765 \n",
      "\n",
      "{'Tech', 'too', 'date', 'lovely', 'International', 'language', 'no', 'adaptations', 'Scientists', 'a', 'discover', 'way', 'working', 'organiser', 'day', 'results', 'something', 'Venturia', 'Really', 'health', 'Grove', 'rankings', 'killed', 'new', 'Congrats', 'carbon', 'looking', 'to', 'younger', 'nursing', 'outstanding', 'economic', 'Supper', 'fourth', 'climate', 'final', 'system', 'emerging', 'lab', 'Mansfield', 'setting', 'her', 'cost', 'memorial', 'STEM', 'Join', 'Early', 'today', 'brand', 'launch', 'Remind', 'year', 'boot', 'peaceful', 'school', 'Shout', 'UCOL', 'will', 'happen', 'hey', 'Pregnant', 'reflects', 'here', 'viruses', 'us', 'camp', 'Chancellor', 'Charlotte', 'Sport', 'with', 'not', 'Listen', 'Watch', 'Veronica', 'hosts', 'Political', 'Championship', 'much', 'Cron', 'breast', 'Ed', 'co', 'many', 'good', 'Expert', 'be', 'top', 'celebrates', 'doing', 'Women', 'PhD', 'Dr', 'cafes', 'keynote', 'Assoc', 'lads', 'including', 'campus', 'prospects', 'business', 'sense', 'and', 'Lovely', 'making', 'recognition', 'Moderate', 'change', 'when', 'up', 'are', 'into', 'their', 'tests', 'graduated', 'from', 'Labour', 'the', 'Spanish', 'Mataram', 'ginseng', 'this', 'World', 'Taylor', 'Newson', 'leading', 'complacent', 'Tongan', 'perfect', 'states', 'me', 'latest', 'win', 'world', 'foundation', 'century', 'located', 'summer', 'Prof', 'NEW', 'Claire', 'vid', 'collaboration', 'deliver', 'issues', 'TV', 'eruption', 'hard', 'at', 'quality', 'eden', 'assignments', 'USA', 'class', 'programme', 'research', 'out', 'links', 'create', 'excellent', 'economical', 'I', 'well', 'RT', 'student', 'Mike', 'University', 'his', 'an', 'water', 'Manawatu', 'women', 'chicken', 'leaders', 'Marketing', 'submitting', 'academics', 'talk', 'Albany', 'hours', 'Why', 'post', 'if', 'in', 'convo', 'Sprout', 'kicks', 'Spent', 'Wednesday', 'What', 'our', 'insights', 'developing', 'better', 'Recognising', 'recently', 'Thanks', 'by', 'crop', 'Massey', 'Michael', 'difference', 'joining', 'makes', 'of', 'cancer', 'School', 'done', 'about', 'tight', 'point', 'remember', 'Aotearoa', 'Congratulations', 'so', 'subjects', 'things', 'particular', 'cant', 'taught', 'get', 'Bring', 'opportunity', 'neuter', 'saying', 'can', 'The', 'native', 'Ugly', 'blog', 'dogs', 'my', 'microchip', 'Sims', 'Arts', 'expert', 'caregivers', 'salute', 'proud', 'Tweet', 'Problem', 'David', 'Sione', 'for', 'what', 'how', 'wks', 'wins', 'next', 'Very', 'great', 'Ksenija', 'who', 'between', 'sharing', 'via', 'ceremony', 'Shakespeare', 'got', 'menacing', 'need', 'possible', 'Big', 'Visiting', 'ranks', 'learn', 'Trisia', 'records', 'tax', 'Please', 'welcome', 'universities', 'Nauru', 'semester', 'effectors', 'auckland', 'it', 'Today', 'give', 'mt', 'anything', 'wonderful', 'says', 'If', 'NZ', 'revolutionises', 'fine', 'brighter', 'off', 'presented', 'National', 'known', 'two', 'discussing', 'training', 'have', 'beauty', 'worldwide', 'but', 'awesome', 'healthy', 'outlook', 'Received', 'that', 'Professor', 'attract', 'Perspective', 'investigate', 'Indonesian', 'finalizing', 'Jenny', 'now', 'you', 'Vaka', 'worth', 'In', 'Carryer', 'explores', 'drinking', 'inaequalis', 'is', 'work', 'detection', 'volcano', 'Institute', 'Great', 'last', 'insists', 'Ralph', 'woman', 'w', 'Terrace', 'Colliers', 'studies', 'exciting', 'employment', 'Farrelly', 'chat', 'like', 'enjoyable', 'breastfeeding', 'would', 'Pasifika', 'Adern', 'whether', 'children', 'Enjoy', 'email', 'started', 'all', 'hypothetical', 'sort', 'week', 'future', 'on', 'trump', 'meet', 'Karaka', 'Agrihub', 'Rugby', 'Have', 'wonder', 'stars', 'academic', 'paper', 'Robinson', 'abstracts', 'hear', 'has', 'Napan', 'leadership', 'Auckland', 'Excellent', 'So', 'WTF', 'we', 'more', 'helping', 'Ahie', 'beyond', 'went', 'Me', 'support', 'Coming', 'colleagues', 'New'} \n",
      "\n",
      "\n",
      "\n",
      "Victoria: 254 unique words out of 1177 = 0.21580288870008496 \n",
      "\n",
      "{'CAPE', 'PhD', 'Dr', 'Study', 'of', 'show', 'Stories', 'hosted', 'including', 'about', 'Vic', 'consortium', 'introduces', 'guys', 'entre', 'have', 'proposal', 'scientists', 'Prime', 'Victoria', 'Bus', 'Zealand', 'Asia', 'Congratulations', 'six', 'these', 'awesome', 'so', 'universidades', 'Looks', 'election', 'muq', 'crew', 'and', 'town', 'local', 'lot', 'rumbling', 'subjects', 'say', 'stupid', 'change', 'initiative', 'Stanley', 'Present', 'en', 'open', 'leader', 'up', 'are', 'that', 'a', 'their', 'from', 'las', 'Comprehensive', 'working', 'Labour', 'the', 'Paul', 'Day', 'describes', 'your', 'night', 'writing', 'Kudos', 'Handy', 'imagine', 'Ctr', 'lift', 'strategic', 'News', 'La', 'this', 'hanging', 'perform', 'Stay', 'govt', 'won', 'gracias', 'The', 'America', 'you', 'health', 'facilities', 'rankings', 'CAPES', 'new', 'Goooood', 'Congrats', 'In', 'Elizabeth', 'announce', 'looking', 'to', 'together', 'meeting', 'Studies', 'mental', 'compostable', 'Goldsmith', 'just', 'Next', 'CAPEs', 'proud', 'dissertation', 'torture', 'is', 'House', 'photo', 'Southeast', 'Prof', 'Great', 'for', 'what', 'last', 'most', 'analyses', 'MP', 'at', 'love', 'look', 'Come', 'great', 'VC', 'running', 'launching', 'rain', 'fwd', 'replaces', 'safe', 'enfocando', 'via', 'showing', 'findings', 'member', 'morning', 'like', 'host', 'help', 'Hon', 'awarded', 'news', 'Latest', 'out', 'being', 'I', 'RT', 'today', 'Vanessa', 'Week', 'been', 'Can', 'some', 'cups', 'time', 'Massive', 'Centres', 'as', 'worldwide', 'moron', 'will', 'University', 'coffee', 'all', 'bunch', 'an', 'announcing', 'Beehive', 'week', 'Rutherford', 'son', 'on', 'universities', 'Minister', 'We', 'among', 'Muchas', 'y', 'Joel', 'Uni', 'Another', 'celebrating', 'team', 'excited', 'talk', 'hi', 'it', 'coming', 'Looking', 'Campus', 'thunder', 'presentation', 'hear', 'Mark', 'plane', 'Nats', 'lead', 'in', 'stall', 'has', 'profile', 'with', 'named', 'Strategic', 'Was', 'not', 'announces', 'Excellence', 'best', 'HT', 'Latin', 'spend', 'students', 'government', 'Kirk', 'relaciones', 'appetite', 'really', 'Pipitea', 'our', 'Got', 'newbie', 'part', 'Honoured', 'social', 'we', 'come', 'May', 'grab', 'Pacific', 'course', 'de', 'Green', 'by', 'many', 'indelible', 'computer', 'two', 'good', 'be', 'do', 'poets', 'announced', 'Clubs', 'turnout', 'refurbished', 'evacuated', 'must', 'support', 'top', 'hosing', 'New', 'spending'}\n"
     ]
    }
   ],
   "source": [
    "print(\"Massey:\", len(unique_massey_words), \"unique words out of\", len(massey_words), \"=\",\n",
    "      len(unique_massey_words) / len(massey_words),\"\\n\")\n",
    "print(unique_massey_words, \"\\n\\n\")\n",
    "print(\"\\nVictoria:\", len(unique_victoria_words), \"unique words out of\", len(victoria_words), \"=\",\n",
    "      len(unique_victoria_words) / len(victoria_words),\"\\n\")\n",
    "print(unique_victoria_words)"
   ]
  },
  {
   "cell_type": "code",
   "execution_count": null,
   "metadata": {
    "collapsed": true
   },
   "outputs": [],
   "source": []
  }
 ],
 "metadata": {
  "kernelspec": {
   "display_name": "Python 3",
   "language": "python",
   "name": "python3"
  },
  "language_info": {
   "codemirror_mode": {
    "name": "ipython",
    "version": 3
   },
   "file_extension": ".py",
   "mimetype": "text/x-python",
   "name": "python",
   "nbconvert_exporter": "python",
   "pygments_lexer": "ipython3",
   "version": "3.6.0"
  }
 },
 "nbformat": 4,
 "nbformat_minor": 2
}
